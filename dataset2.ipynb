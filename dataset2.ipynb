{
 "cells": [
  {
   "cell_type": "code",
   "execution_count": 1,
   "metadata": {},
   "outputs": [],
   "source": [
    "# Oct 13, 2021\n",
    "# the first dataset becomes too large when these variables are added\n",
    "# since that at this point we want only to observe the descriptive variables, we can create a secondary dataset"
   ]
  },
  {
   "cell_type": "code",
   "execution_count": 2,
   "metadata": {},
   "outputs": [],
   "source": [
    "import pandas as pd\n",
    "import numpy as np\n",
    "import dask.dataframe as dd\n",
    "from dask.delayed import delayed\n",
    "\n",
    "\n",
    "def data_read(file, names, usecols, dtype):\n",
    "    df = dd.read_parquet(file, compression='gzip', names=names, usecols=usecols, dtype=dtype, index_col='id', header=0)\n",
    "    dfs.append(df)"
   ]
  },
  {
   "cell_type": "code",
   "execution_count": 3,
   "metadata": {},
   "outputs": [],
   "source": [
    "dst='data/dataset2.parquet.gz'\n",
    "\n",
    "patent='data/cleanpatent.parquet.gz'\n",
    "# received='data/cit_received.parquet.gz'\n",
    "# made='data/cit_made.parquet.gz'\n",
    "# received_delay='data/cit_received_delay.parquet.gz'\n",
    "# made_delay='data/cit_made_delay.parquet.gz'\n",
    "# # cit_tree = 'data/cit_tree.csv.gz'\n",
    "# originality = 'data/originality.parquet.gz'\n",
    "# generality = 'data/generality.parquet.gz'\n",
    "# wipo = 'data/wipo.parquet.gz'\n",
    "# centrality='data/centrality_pagerank.csv'\n",
    "# int_ext_cit='data/int_ext_cit.parquet.gz'"
   ]
  },
  {
   "cell_type": "code",
   "execution_count": 4,
   "metadata": {},
   "outputs": [
    {
     "data": {
      "text/plain": [
       "Dask Series Structure:\n",
       "npartitions=1\n",
       "    int64\n",
       "      ...\n",
       "dtype: int64\n",
       "Dask Name: series-groupby-sum-agg, 8 tasks"
      ]
     },
     "execution_count": 4,
     "metadata": {},
     "output_type": "execute_result"
    }
   ],
   "source": [
    "dfs=[]\n",
    "\n",
    "#adopting patent.csv as the reference of patents\n",
    "df = dd.read_parquet(patent, compression='gzip', dtype=object)\n",
    "df['num_claims']=df['num_claims'].astype(float) #int does not handle NAN values, so using float instead\n",
    "df.memory_usage()"
   ]
  },
  {
   "cell_type": "code",
   "execution_count": 5,
   "metadata": {},
   "outputs": [],
   "source": [
    "#outer join to citation received\n",
    "#there are patents who received citations that are not in patent.csv.gz\n",
    "#for example, the very ancient ones"
   ]
  },
  {
   "cell_type": "code",
   "execution_count": 6,
   "metadata": {},
   "outputs": [],
   "source": [
    "# adding some new files\n",
    "inventor='data/inventor.parquet.gz'\n",
    "application='data/application.parquet.gz'\n",
    "foreign_cit='data/foreigncitation.parquet.gz'\n",
    "foreign_priority='data/foreign_priority.parquet.gz'\n",
    "pat_govt='data/df_pat_govt.parquet.gz'\n",
    "pat_assignee='data/pat_assignee.parquet.gz'\n",
    "otherref_cit = 'data/otherref_cit.parquet.gz'"
   ]
  },
  {
   "cell_type": "code",
   "execution_count": 7,
   "metadata": {},
   "outputs": [
    {
     "data": {
      "text/plain": [
       "Dask Series Structure:\n",
       "npartitions=1\n",
       "    int64\n",
       "      ...\n",
       "dtype: int64\n",
       "Dask Name: series-groupby-sum-agg, 7 tasks"
      ]
     },
     "execution_count": 7,
     "metadata": {},
     "output_type": "execute_result"
    }
   ],
   "source": [
    "df2 = dd.read_parquet(inventor, dtype=object)\n",
    "df2=df2.set_index('id')\n",
    "df=df.join(df2, how='outer')\n",
    "df2.memory_usage()"
   ]
  },
  {
   "cell_type": "code",
   "execution_count": 8,
   "metadata": {},
   "outputs": [
    {
     "data": {
      "text/plain": [
       "Dask Series Structure:\n",
       "npartitions=1\n",
       "    int64\n",
       "      ...\n",
       "dtype: int64\n",
       "Dask Name: series-groupby-sum-agg, 7 tasks"
      ]
     },
     "execution_count": 8,
     "metadata": {},
     "output_type": "execute_result"
    }
   ],
   "source": [
    "df2 = dd.read_parquet(application)\n",
    "df2=df2.set_index('id')\n",
    "df=df.join(df2, how='outer')\n",
    "df2.memory_usage()"
   ]
  },
  {
   "cell_type": "code",
   "execution_count": 9,
   "metadata": {},
   "outputs": [
    {
     "data": {
      "text/plain": [
       "Dask Series Structure:\n",
       "npartitions=1\n",
       "    int64\n",
       "      ...\n",
       "dtype: int64\n",
       "Dask Name: series-groupby-sum-agg, 5 tasks"
      ]
     },
     "execution_count": 9,
     "metadata": {},
     "output_type": "execute_result"
    }
   ],
   "source": [
    "df2 = dd.read_parquet(foreign_cit)\n",
    "#df2=df2.set_index('patent_id')\n",
    "df=df.join(df2, how='outer')\n",
    "df2.memory_usage()"
   ]
  },
  {
   "cell_type": "code",
   "execution_count": 10,
   "metadata": {},
   "outputs": [
    {
     "data": {
      "text/plain": [
       "Dask Series Structure:\n",
       "npartitions=1\n",
       "    int64\n",
       "      ...\n",
       "dtype: int64\n",
       "Dask Name: series-groupby-sum-agg, 7 tasks"
      ]
     },
     "execution_count": 10,
     "metadata": {},
     "output_type": "execute_result"
    }
   ],
   "source": [
    "df2 = dd.read_parquet(foreign_priority, dtype=object)\n",
    "df2=df2.set_index('patent_id')\n",
    "df=df.join(df2, how='outer')\n",
    "df2.memory_usage()"
   ]
  },
  {
   "cell_type": "code",
   "execution_count": 11,
   "metadata": {},
   "outputs": [
    {
     "data": {
      "text/plain": [
       "Dask Series Structure:\n",
       "npartitions=1\n",
       "    int64\n",
       "      ...\n",
       "dtype: int64\n",
       "Dask Name: series-groupby-sum-agg, 5 tasks"
      ]
     },
     "execution_count": 11,
     "metadata": {},
     "output_type": "execute_result"
    }
   ],
   "source": [
    "df2 = dd.read_parquet(pat_govt, dtype=object)\n",
    "df=df.join(df2, how='outer')\n",
    "df2.memory_usage()"
   ]
  },
  {
   "cell_type": "code",
   "execution_count": 12,
   "metadata": {},
   "outputs": [
    {
     "data": {
      "text/plain": [
       "Dask Series Structure:\n",
       "npartitions=1\n",
       "    int64\n",
       "      ...\n",
       "dtype: int64\n",
       "Dask Name: series-groupby-sum-agg, 5 tasks"
      ]
     },
     "execution_count": 12,
     "metadata": {},
     "output_type": "execute_result"
    }
   ],
   "source": [
    "df2 = dd.read_parquet(pat_assignee, dtype=object)\n",
    "#df2=df2.set_index('patent_id')\n",
    "df=df.join(df2, how='outer')\n",
    "df2.memory_usage()"
   ]
  },
  {
   "cell_type": "code",
   "execution_count": 13,
   "metadata": {},
   "outputs": [
    {
     "data": {
      "text/plain": [
       "Dask Series Structure:\n",
       "npartitions=1\n",
       "    int64\n",
       "      ...\n",
       "dtype: int64\n",
       "Dask Name: series-groupby-sum-agg, 5 tasks"
      ]
     },
     "execution_count": 13,
     "metadata": {},
     "output_type": "execute_result"
    }
   ],
   "source": [
    "df2 = dd.read_parquet(otherref_cit, dtype=object)\n",
    "#df2=df2.set_index('patent_id')\n",
    "df=df.join(df2, how='outer')\n",
    "df2.memory_usage()"
   ]
  },
  {
   "cell_type": "code",
   "execution_count": null,
   "metadata": {},
   "outputs": [],
   "source": [
    "df=df.compute()"
   ]
  },
  {
   "cell_type": "code",
   "execution_count": null,
   "metadata": {},
   "outputs": [],
   "source": [
    "df.info()"
   ]
  },
  {
   "cell_type": "code",
   "execution_count": null,
   "metadata": {},
   "outputs": [],
   "source": [
    "df.sample(n=10)"
   ]
  },
  {
   "cell_type": "code",
   "execution_count": null,
   "metadata": {},
   "outputs": [],
   "source": [
    "df.describe()"
   ]
  },
  {
   "cell_type": "code",
   "execution_count": null,
   "metadata": {},
   "outputs": [],
   "source": [
    "df.describe(include=[np.object]).transpose()"
   ]
  },
  {
   "cell_type": "code",
   "execution_count": null,
   "metadata": {},
   "outputs": [],
   "source": [
    "df.to_parquet(dst, compression='gzip')"
   ]
  },
  {
   "cell_type": "code",
   "execution_count": null,
   "metadata": {},
   "outputs": [],
   "source": [
    "# In[32]:\n",
    "\n",
    "\n",
    "# this code includes WIPO in the dataset\n",
    "# as class is also part of non-cited patents, I'm not including in here.\n",
    "# in any case, for some reason this merge could not be done by the method used in the previous\n",
    "# there is a bug when using read_csv.gz using dtype and indexing. \n",
    "# it is a known bug in the community but i do not know why the previous join did not accused the issue\n",
    "# the method below corrects the issue \n",
    "\n",
    "# names=['index', 'id', 'field_id']\n",
    "# dtype={'id':object}\n",
    "# usecols=['id', 'field_id']\n",
    "# # data_read(wipo, names, usecols, dtype)\n",
    "# wipo = pd.read_csv.gz(wipo, names=names, usecols=usecols, dtype=dtype, header=0)\n",
    "# wipo['id']=wipo['id'].astype(str)\n",
    "# wipo=wipo.set_index('id')\n",
    "# wipo.info()\n",
    "\n",
    "# dfs.append(wipo)"
   ]
  }
 ],
 "metadata": {
  "kernelspec": {
   "display_name": "Python 3",
   "language": "python",
   "name": "python3"
  },
  "language_info": {
   "codemirror_mode": {
    "name": "ipython",
    "version": 3
   },
   "file_extension": ".py",
   "mimetype": "text/x-python",
   "name": "python",
   "nbconvert_exporter": "python",
   "pygments_lexer": "ipython3",
   "version": "3.7.7"
  }
 },
 "nbformat": 4,
 "nbformat_minor": 4
}
