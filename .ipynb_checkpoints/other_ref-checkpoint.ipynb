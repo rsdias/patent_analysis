{
 "cells": [
  {
   "cell_type": "code",
   "execution_count": 1,
   "metadata": {},
   "outputs": [],
   "source": [
    "#This script opens the other reference dataset and perform calculations on patent level\n",
    "#Renato Kogeyama\n",
    "\n",
    "#Rio de Janeiro, 24 de Setembro de 2021\n",
    "#Script to calculate non patent citations received by a patent\n"
   ]
  },
  {
   "cell_type": "code",
   "execution_count": 2,
   "metadata": {},
   "outputs": [],
   "source": [
    "import pandas as pd\n",
    "import numpy as np\n",
    "import re\n",
    "import glob"
   ]
  },
  {
   "cell_type": "code",
   "execution_count": 3,
   "metadata": {},
   "outputs": [],
   "source": [
    "file_list=glob.glob(\"data/clean_otherref*\")\n",
    "dfs = [pd.read_parquet(f, columns=['patent_id', 'sequence']) for f in file_list]\n",
    "dst = 'data/otherref_cit.parquet.gz'\n",
    "\n",
    "for i, df in enumerate(dfs):\n",
    "    if i==0:\n",
    "        output=df.groupby(df.index).count() \n",
    "    else:\n",
    "        output=pd.concat([output, df.groupby(df.index).count()]) # following Nemet and Johson, this variable is relevant for citations made\n"
   ]
  },
  {
   "cell_type": "code",
   "execution_count": 4,
   "metadata": {},
   "outputs": [],
   "source": [
    "output=output.groupby(output.index).sum()"
   ]
  },
  {
   "cell_type": "code",
   "execution_count": 5,
   "metadata": {},
   "outputs": [
    {
     "data": {
      "text/html": [
       "<div>\n",
       "<style scoped>\n",
       "    .dataframe tbody tr th:only-of-type {\n",
       "        vertical-align: middle;\n",
       "    }\n",
       "\n",
       "    .dataframe tbody tr th {\n",
       "        vertical-align: top;\n",
       "    }\n",
       "\n",
       "    .dataframe thead th {\n",
       "        text-align: right;\n",
       "    }\n",
       "</style>\n",
       "<table border=\"1\" class=\"dataframe\">\n",
       "  <thead>\n",
       "    <tr style=\"text-align: right;\">\n",
       "      <th></th>\n",
       "      <th>sequence</th>\n",
       "    </tr>\n",
       "    <tr>\n",
       "      <th>patent_id</th>\n",
       "      <th></th>\n",
       "    </tr>\n",
       "  </thead>\n",
       "  <tbody>\n",
       "    <tr>\n",
       "      <th>10000000</th>\n",
       "      <td>6</td>\n",
       "    </tr>\n",
       "    <tr>\n",
       "      <th>10000002</th>\n",
       "      <td>2</td>\n",
       "    </tr>\n",
       "    <tr>\n",
       "      <th>10000003</th>\n",
       "      <td>2</td>\n",
       "    </tr>\n",
       "    <tr>\n",
       "      <th>10000005</th>\n",
       "      <td>2</td>\n",
       "    </tr>\n",
       "    <tr>\n",
       "      <th>10000006</th>\n",
       "      <td>1</td>\n",
       "    </tr>\n",
       "  </tbody>\n",
       "</table>\n",
       "</div>"
      ],
      "text/plain": [
       "           sequence\n",
       "patent_id          \n",
       "10000000          6\n",
       "10000002          2\n",
       "10000003          2\n",
       "10000005          2\n",
       "10000006          1"
      ]
     },
     "execution_count": 5,
     "metadata": {},
     "output_type": "execute_result"
    }
   ],
   "source": [
    "output.head()"
   ]
  },
  {
   "cell_type": "code",
   "execution_count": 6,
   "metadata": {},
   "outputs": [
    {
     "data": {
      "text/plain": [
       "[          sequence\n",
       " patent_id         \n",
       " D670692        192\n",
       " RE43119        573\n",
       " 9441707          6\n",
       " 7445817        188\n",
       " 10391397       127\n",
       " ...            ...\n",
       " 9040445        117\n",
       " 10333604       950\n",
       " 4422268          0\n",
       " 9287675         65\n",
       " 9492555         35\n",
       " \n",
       " [15728640 rows x 1 columns],\n",
       "           sequence\n",
       " patent_id         \n",
       " 9339622          2\n",
       " 5013322          1\n",
       " 8773357         14\n",
       " 7307640        170\n",
       " 8543711         27\n",
       " ...            ...\n",
       " 9732075         75\n",
       " 6724065          3\n",
       " 8204342          5\n",
       " 10287321       182\n",
       " 8722518         27\n",
       " \n",
       " [15728640 rows x 1 columns],\n",
       "           sequence\n",
       " patent_id         \n",
       " 9140992          4\n",
       " 8637529          4\n",
       " 10106624        11\n",
       " 8236294         93\n",
       " 10307830         2\n",
       " ...            ...\n",
       " 8782379         13\n",
       " 8063023        125\n",
       " 8259769         19\n",
       " 10165183         7\n",
       " 9028451         65\n",
       " \n",
       " [8107859 rows x 1 columns]]"
      ]
     },
     "execution_count": 6,
     "metadata": {},
     "output_type": "execute_result"
    }
   ],
   "source": [
    "dfs"
   ]
  },
  {
   "cell_type": "code",
   "execution_count": 7,
   "metadata": {},
   "outputs": [
    {
     "data": {
      "text/html": [
       "<div>\n",
       "<style scoped>\n",
       "    .dataframe tbody tr th:only-of-type {\n",
       "        vertical-align: middle;\n",
       "    }\n",
       "\n",
       "    .dataframe tbody tr th {\n",
       "        vertical-align: top;\n",
       "    }\n",
       "\n",
       "    .dataframe thead th {\n",
       "        text-align: right;\n",
       "    }\n",
       "</style>\n",
       "<table border=\"1\" class=\"dataframe\">\n",
       "  <thead>\n",
       "    <tr style=\"text-align: right;\">\n",
       "      <th></th>\n",
       "      <th>sequence</th>\n",
       "    </tr>\n",
       "    <tr>\n",
       "      <th>patent_id</th>\n",
       "      <th></th>\n",
       "    </tr>\n",
       "  </thead>\n",
       "  <tbody>\n",
       "    <tr>\n",
       "      <th>10415016</th>\n",
       "      <td>3009</td>\n",
       "    </tr>\n",
       "    <tr>\n",
       "      <th>10329543</th>\n",
       "      <td>3008</td>\n",
       "    </tr>\n",
       "    <tr>\n",
       "      <th>8401902</th>\n",
       "      <td>2964</td>\n",
       "    </tr>\n",
       "    <tr>\n",
       "      <th>7820193</th>\n",
       "      <td>2823</td>\n",
       "    </tr>\n",
       "    <tr>\n",
       "      <th>9487823</th>\n",
       "      <td>2725</td>\n",
       "    </tr>\n",
       "    <tr>\n",
       "      <th>9100375</th>\n",
       "      <td>2501</td>\n",
       "    </tr>\n",
       "    <tr>\n",
       "      <th>8112782</th>\n",
       "      <td>2483</td>\n",
       "    </tr>\n",
       "    <tr>\n",
       "      <th>9037713</th>\n",
       "      <td>2380</td>\n",
       "    </tr>\n",
       "    <tr>\n",
       "      <th>9094399</th>\n",
       "      <td>2376</td>\n",
       "    </tr>\n",
       "    <tr>\n",
       "      <th>9860283</th>\n",
       "      <td>2372</td>\n",
       "    </tr>\n",
       "    <tr>\n",
       "      <th>8637286</th>\n",
       "      <td>2336</td>\n",
       "    </tr>\n",
       "    <tr>\n",
       "      <th>8445244</th>\n",
       "      <td>2333</td>\n",
       "    </tr>\n",
       "    <tr>\n",
       "      <th>9413766</th>\n",
       "      <td>2333</td>\n",
       "    </tr>\n",
       "    <tr>\n",
       "      <th>8236539</th>\n",
       "      <td>2330</td>\n",
       "    </tr>\n",
       "    <tr>\n",
       "      <th>9479426</th>\n",
       "      <td>2317</td>\n",
       "    </tr>\n",
       "  </tbody>\n",
       "</table>\n",
       "</div>"
      ],
      "text/plain": [
       "           sequence\n",
       "patent_id          \n",
       "10415016       3009\n",
       "10329543       3008\n",
       "8401902        2964\n",
       "7820193        2823\n",
       "9487823        2725\n",
       "9100375        2501\n",
       "8112782        2483\n",
       "9037713        2380\n",
       "9094399        2376\n",
       "9860283        2372\n",
       "8637286        2336\n",
       "8445244        2333\n",
       "9413766        2333\n",
       "8236539        2330\n",
       "9479426        2317"
      ]
     },
     "execution_count": 7,
     "metadata": {},
     "output_type": "execute_result"
    }
   ],
   "source": [
    "output.nlargest(15, 'sequence')"
   ]
  },
  {
   "cell_type": "code",
   "execution_count": 8,
   "metadata": {},
   "outputs": [],
   "source": [
    "output.to_parquet(dst, compression='gzip')"
   ]
  }
 ],
 "metadata": {
  "kernelspec": {
   "display_name": "Python 3",
   "language": "python",
   "name": "python3"
  },
  "language_info": {
   "codemirror_mode": {
    "name": "ipython",
    "version": 3
   },
   "file_extension": ".py",
   "mimetype": "text/x-python",
   "name": "python",
   "nbconvert_exporter": "python",
   "pygments_lexer": "ipython3",
   "version": "3.7.7"
  }
 },
 "nbformat": 4,
 "nbformat_minor": 4
}
