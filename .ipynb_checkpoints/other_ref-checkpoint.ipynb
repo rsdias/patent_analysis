{
 "cells": [
  {
   "cell_type": "code",
   "execution_count": 1,
   "metadata": {},
   "outputs": [],
   "source": [
    "#This script opens the other reference dataset and perform calculations on patent level\n",
    "#Renato Kogeyama\n",
    "\n",
    "#Rio de Janeiro, 24 de Setembro de 2021\n",
    "#Script to calculate non patent citations received by a patent\n"
   ]
  },
  {
   "cell_type": "code",
   "execution_count": 2,
   "metadata": {},
   "outputs": [],
   "source": [
    "import pandas as pd\n",
    "import numpy as np\n",
    "import re\n",
    "import glob\n",
    "\n",
    "pd.options.display.max_colwidth = 100"
   ]
  },
  {
   "cell_type": "code",
   "execution_count": 3,
   "metadata": {},
   "outputs": [],
   "source": [
    "file_list=glob.glob(\"data/clean_otherref*\")\n",
    "dfs = [pd.read_parquet(f, columns=['patent_id', 'text']) for f in file_list]\n",
    "dst = 'data/otherref_cit.parquet.gz'"
   ]
  },
  {
   "cell_type": "code",
   "execution_count": 4,
   "metadata": {},
   "outputs": [],
   "source": [
    "# for i, df in enumerate(dfs):\n",
    "#     if i==0:\n",
    "#         output=df.loc['10415016']\n",
    "#         #output=df.groupby(df.index).count() \n",
    "#     else:\n",
    "#         #output=pd.concat([output, df.groupby(df.index).count()])\n",
    "#         output.append(df.loc['10415016'])\n"
   ]
  },
  {
   "cell_type": "code",
   "execution_count": 5,
   "metadata": {},
   "outputs": [],
   "source": [
    "output=[]\n",
    "for df in dfs:\n",
    "    output.append(df.loc['10415016'])"
   ]
  },
  {
   "cell_type": "code",
   "execution_count": 6,
   "metadata": {},
   "outputs": [
    {
     "name": "stdout",
     "output_type": "stream",
     "text": [
      "                                                        text\n",
      "patent_id                                                   \n",
      "10415016   PDGFB from The Human Protein Atlas wwwproteina...\n",
      "10415016   NOMO3 from The Human Protein Atlas wwwproteina...\n",
      "10415016   LAMA2 from The Human Protein Atlas wwwproteina...\n",
      "10415016   ISM1 from The Human Protein Atlas wwwproteinat...\n",
      "10415016   Sabatino M et al Jul 2016 Generation of clinic...\n",
      "...                                                      ...\n",
      "10415016   RSPRY1 from The Human Protein Atlas wwwprotein...\n",
      "10415016   BMP6 from The Human Protein Atlas wwwproteinat...\n",
      "10415016   PRKD1 from The Human Protein Atlas wwwproteina...\n",
      "10415016   F10 from The Human Protein Atlas wwwproteinatl...\n",
      "10415016   GLB1L2 from The Human Protein Atlas wwwprotein...\n",
      "\n",
      "[1162 rows x 1 columns]\n",
      "                                                        text\n",
      "patent_id                                                   \n",
      "10415016   PDIA3 from The Human Protein Atlas wwwproteina...\n",
      "10415016   Gattinoni et al A human memory T cell subset w...\n",
      "10415016   ADGRD1 from The Human Protein Atlas wwwprotein...\n",
      "10415016   SAA2 from The Human Protein Atlas wwwproteinat...\n",
      "10415016   GZMA from The Human Protein Atlas wwwproteinat...\n",
      "...                                                      ...\n",
      "10415016   CCL3L3 from The Human Protein Atlas wwwprotein...\n",
      "10415016   GDF10 from The Human Protein Atlas wwwproteina...\n",
      "10415016   ERFE from The Human Protein Atlas wwwproteinat...\n",
      "10415016   SDHD from The Human Protein Atlas wwwproteinat...\n",
      "10415016   CELA3A from The Human Protein Atlas wwwprotein...\n",
      "\n",
      "[1195 rows x 1 columns]\n",
      "                                                        text\n",
      "patent_id                                                   \n",
      "10415016   ADM from The Human Protein Atlas wwwproteinatl...\n",
      "10415016   KIRREL2 from The Human Protein Atlas wwwprotei...\n",
      "10415016   DAND5 from The Human Protein Atlas wwwproteina...\n",
      "10415016   ADAM18 from The Human Protein Atlas wwwprotein...\n",
      "10415016   LGI2 from The Human Protein Atlas wwwproteinat...\n",
      "...                                                      ...\n",
      "10415016   LEFTY2 from The Human Protein Atlas wwwprotein...\n",
      "10415016   FCAR from The Human Protein Atlas wwwproteinat...\n",
      "10415016   CSF1 from The Human Protein Atlas wwwproteinat...\n",
      "10415016   TMED7 from The Human Protein Atlas wwwproteina...\n",
      "10415016   CXCL1 from The Human Protein Atlas wwwproteina...\n",
      "\n",
      "[652 rows x 1 columns]\n"
     ]
    }
   ],
   "source": [
    "for element in output:\n",
    "    print(element)"
   ]
  },
  {
   "cell_type": "code",
   "execution_count": 7,
   "metadata": {},
   "outputs": [
    {
     "ename": "AttributeError",
     "evalue": "'list' object has no attribute 'groupby'",
     "output_type": "error",
     "traceback": [
      "\u001b[0;31m---------------------------------------------------------------------------\u001b[0m",
      "\u001b[0;31mAttributeError\u001b[0m                            Traceback (most recent call last)",
      "\u001b[0;32m<ipython-input-7-bc16c4a76076>\u001b[0m in \u001b[0;36m<module>\u001b[0;34m\u001b[0m\n\u001b[0;32m----> 1\u001b[0;31m \u001b[0moutput\u001b[0m\u001b[0;34m=\u001b[0m\u001b[0moutput\u001b[0m\u001b[0;34m.\u001b[0m\u001b[0mgroupby\u001b[0m\u001b[0;34m(\u001b[0m\u001b[0moutput\u001b[0m\u001b[0;34m.\u001b[0m\u001b[0mindex\u001b[0m\u001b[0;34m)\u001b[0m\u001b[0;34m.\u001b[0m\u001b[0msum\u001b[0m\u001b[0;34m(\u001b[0m\u001b[0;34m)\u001b[0m\u001b[0;34m\u001b[0m\u001b[0;34m\u001b[0m\u001b[0m\n\u001b[0m",
      "\u001b[0;31mAttributeError\u001b[0m: 'list' object has no attribute 'groupby'"
     ]
    }
   ],
   "source": [
    "output=output.groupby(output.index).sum()"
   ]
  },
  {
   "cell_type": "code",
   "execution_count": null,
   "metadata": {},
   "outputs": [],
   "source": [
    "output.head()"
   ]
  },
  {
   "cell_type": "code",
   "execution_count": null,
   "metadata": {},
   "outputs": [],
   "source": [
    "dfs"
   ]
  },
  {
   "cell_type": "code",
   "execution_count": null,
   "metadata": {},
   "outputs": [],
   "source": [
    "output.nlargest(15, 'uuid')"
   ]
  },
  {
   "cell_type": "code",
   "execution_count": null,
   "metadata": {},
   "outputs": [],
   "source": [
    "output.to_parquet(dst, compression='gzip')"
   ]
  }
 ],
 "metadata": {
  "kernelspec": {
   "display_name": "Python 3",
   "language": "python",
   "name": "python3"
  },
  "language_info": {
   "codemirror_mode": {
    "name": "ipython",
    "version": 3
   },
   "file_extension": ".py",
   "mimetype": "text/x-python",
   "name": "python",
   "nbconvert_exporter": "python",
   "pygments_lexer": "ipython3",
   "version": "3.7.7"
  }
 },
 "nbformat": 4,
 "nbformat_minor": 4
}
