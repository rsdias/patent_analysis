{
 "cells": [
  {
   "cell_type": "code",
   "execution_count": 1,
   "metadata": {},
   "outputs": [],
   "source": [
    "# Rio de Janeiro, 23 de Setembro de 2021\n",
    "# Patents with foreign application\n",
    "# Citation to foreign patents (total count)\n",
    "# Applications (date)\n"
   ]
  },
  {
   "cell_type": "markdown",
   "metadata": {},
   "source": [
    "## Patents with foreign application\n",
    "- Information about an earlier patent filing in a foreign country which gives the claim priority \n"
   ]
  },
  {
   "cell_type": "code",
   "execution_count": 2,
   "metadata": {},
   "outputs": [],
   "source": [
    "import pandas as pd\n",
    "import seaborn as sns\n",
    "import numpy as np\n",
    "import matplotlib.pyplot as plt\n"
   ]
  },
  {
   "cell_type": "code",
   "execution_count": 3,
   "metadata": {},
   "outputs": [],
   "source": [
    "# priority='data/foreign_priority.tsv.zip'\n",
    "# df=pd.read_csv(priority, compression='zip', sep='\\t')\n",
    "\n",
    "# dst='data/foreign_priority.parquet.gz'\n",
    "# df=df[['patent_id','date', 'country_transformed']]\n",
    "# df = df.rename(columns={'date': 'f_priority_date'})\n",
    "# #df.to_parquet(dst, compression='gzip')\n",
    "# df.memory_usage()"
   ]
  },
  {
   "cell_type": "markdown",
   "metadata": {},
   "source": [
    "## Citation to foreign patents"
   ]
  },
  {
   "cell_type": "code",
   "execution_count": 4,
   "metadata": {
    "scrolled": true
   },
   "outputs": [
    {
     "data": {
      "text/html": [
       "<div>\n",
       "<style scoped>\n",
       "    .dataframe tbody tr th:only-of-type {\n",
       "        vertical-align: middle;\n",
       "    }\n",
       "\n",
       "    .dataframe tbody tr th {\n",
       "        vertical-align: top;\n",
       "    }\n",
       "\n",
       "    .dataframe thead th {\n",
       "        text-align: right;\n",
       "    }\n",
       "</style>\n",
       "<table border=\"1\" class=\"dataframe\">\n",
       "  <thead>\n",
       "    <tr style=\"text-align: right;\">\n",
       "      <th></th>\n",
       "      <th>uuid</th>\n",
       "      <th>patent_id</th>\n",
       "      <th>date</th>\n",
       "      <th>number</th>\n",
       "      <th>country</th>\n",
       "      <th>category</th>\n",
       "      <th>sequence</th>\n",
       "    </tr>\n",
       "  </thead>\n",
       "  <tbody>\n",
       "    <tr>\n",
       "      <th>0</th>\n",
       "      <td>00000kn29m6rw14dilp4huhqa</td>\n",
       "      <td>9872910</td>\n",
       "      <td>2013-04-01</td>\n",
       "      <td>2013-512894</td>\n",
       "      <td>JP</td>\n",
       "      <td>cited by applicant</td>\n",
       "      <td>4</td>\n",
       "    </tr>\n",
       "    <tr>\n",
       "      <th>1</th>\n",
       "      <td>00000mb3si9yta1mr1mzzf7t3</td>\n",
       "      <td>7580255</td>\n",
       "      <td>2001-05-01</td>\n",
       "      <td>1 104 150</td>\n",
       "      <td>EP</td>\n",
       "      <td>cited by other</td>\n",
       "      <td>0</td>\n",
       "    </tr>\n",
       "    <tr>\n",
       "      <th>2</th>\n",
       "      <td>00007x6v2g3mhkq0vq9o2k3g3</td>\n",
       "      <td>10221436</td>\n",
       "      <td>2007-12-01</td>\n",
       "      <td>WO-2007138178</td>\n",
       "      <td>WO</td>\n",
       "      <td>cited by applicant</td>\n",
       "      <td>84</td>\n",
       "    </tr>\n",
       "    <tr>\n",
       "      <th>3</th>\n",
       "      <td>00009vc2dthuhusv4ftd964dp</td>\n",
       "      <td>5928533</td>\n",
       "      <td>1990-07-01</td>\n",
       "      <td>2641718</td>\n",
       "      <td>FR</td>\n",
       "      <td>NaN</td>\n",
       "      <td>1</td>\n",
       "    </tr>\n",
       "    <tr>\n",
       "      <th>4</th>\n",
       "      <td>0000clmhnekrrt61zwmx9n0s1</td>\n",
       "      <td>7223854</td>\n",
       "      <td>1993-04-01</td>\n",
       "      <td>WO 93/07898</td>\n",
       "      <td>WO</td>\n",
       "      <td>cited by other</td>\n",
       "      <td>6</td>\n",
       "    </tr>\n",
       "  </tbody>\n",
       "</table>\n",
       "</div>"
      ],
      "text/plain": [
       "                        uuid patent_id        date         number country  \\\n",
       "0  00000kn29m6rw14dilp4huhqa   9872910  2013-04-01    2013-512894      JP   \n",
       "1  00000mb3si9yta1mr1mzzf7t3   7580255  2001-05-01      1 104 150      EP   \n",
       "2  00007x6v2g3mhkq0vq9o2k3g3  10221436  2007-12-01  WO-2007138178      WO   \n",
       "3  00009vc2dthuhusv4ftd964dp   5928533  1990-07-01        2641718      FR   \n",
       "4  0000clmhnekrrt61zwmx9n0s1   7223854  1993-04-01    WO 93/07898      WO   \n",
       "\n",
       "             category  sequence  \n",
       "0  cited by applicant         4  \n",
       "1      cited by other         0  \n",
       "2  cited by applicant        84  \n",
       "3                 NaN         1  \n",
       "4      cited by other         6  "
      ]
     },
     "execution_count": 4,
     "metadata": {},
     "output_type": "execute_result"
    }
   ],
   "source": [
    "f_citation='data/foreigncitation.tsv.zip'\n",
    "df=pd.read_csv(f_citation, compression='zip', sep='\\t')\n",
    "df.head()    "
   ]
  },
  {
   "cell_type": "code",
   "execution_count": 5,
   "metadata": {},
   "outputs": [],
   "source": [
    "# cria uma lista de paises por patent_id\n",
    "# df.groupby(['patent_id'])['country'].apply(list) "
   ]
  },
  {
   "cell_type": "code",
   "execution_count": 6,
   "metadata": {},
   "outputs": [
    {
     "data": {
      "text/plain": [
       "country\n",
       "JP            8346421\n",
       "WO            7968298\n",
       "EP            4179673\n",
       "DE            1834930\n",
       "GB            1346828\n",
       "CN            1041043\n",
       "KR             676674\n",
       "FR             581537\n",
       "CA             301150\n",
       "TW             169681\n",
       "SU             146327\n",
       "JPX            125730\n",
       "AU             120729\n",
       "EPX            105406\n",
       "RU              97030\n",
       "Name: uuid, dtype: int64"
      ]
     },
     "execution_count": 6,
     "metadata": {},
     "output_type": "execute_result"
    }
   ],
   "source": [
    "# paises com mais citacoes\n",
    "df.groupby('country').count()['uuid'].sort_values(ascending=False).head(15)"
   ]
  },
  {
   "cell_type": "code",
   "execution_count": 7,
   "metadata": {},
   "outputs": [],
   "source": [
    "# exportamos apenas a contagem\n",
    "# dst='data/foreigncitation.parquet.gz'\n",
    "# df.groupby('patent_id').count()['uuid'].to_frame().to_parquet(dst, compression='gzip')\n",
    "# df.memory_usage()"
   ]
  },
  {
   "cell_type": "code",
   "execution_count": 8,
   "metadata": {},
   "outputs": [],
   "source": [
    "# distribution of foreign cited patents per year\n",
    "df['date'] = pd.to_datetime(df['date'].astype(str), errors='coerce')\n",
    "\n",
    "df['year']=df.date.dt.year\n",
    "df['decade']=df.date.dt.year//10*10\n",
    "df['decade'] =df['decade'].apply(lambda x: int(x) if str(x) != 'nan' else np.nan)\n",
    "decades=list(df.decade.unique())"
   ]
  },
  {
   "cell_type": "code",
   "execution_count": 9,
   "metadata": {},
   "outputs": [
    {
     "data": {
      "text/html": [
       "<div>\n",
       "<style scoped>\n",
       "    .dataframe tbody tr th:only-of-type {\n",
       "        vertical-align: middle;\n",
       "    }\n",
       "\n",
       "    .dataframe tbody tr th {\n",
       "        vertical-align: top;\n",
       "    }\n",
       "\n",
       "    .dataframe thead th {\n",
       "        text-align: right;\n",
       "    }\n",
       "</style>\n",
       "<table border=\"1\" class=\"dataframe\">\n",
       "  <thead>\n",
       "    <tr style=\"text-align: right;\">\n",
       "      <th></th>\n",
       "      <th>uuid</th>\n",
       "      <th>patent_id</th>\n",
       "      <th>date</th>\n",
       "      <th>number</th>\n",
       "      <th>country</th>\n",
       "      <th>category</th>\n",
       "      <th>sequence</th>\n",
       "      <th>year</th>\n",
       "      <th>decade</th>\n",
       "    </tr>\n",
       "  </thead>\n",
       "  <tbody>\n",
       "    <tr>\n",
       "      <th>2756072</th>\n",
       "      <td>3kqloun8z4na55mqvl6k2xyfd</td>\n",
       "      <td>5537533</td>\n",
       "      <td>2094-04-01</td>\n",
       "      <td>PCT/US94/04326</td>\n",
       "      <td>WO</td>\n",
       "      <td>NaN</td>\n",
       "      <td>0</td>\n",
       "      <td>2094.0</td>\n",
       "      <td>2090.0</td>\n",
       "    </tr>\n",
       "    <tr>\n",
       "      <th>5118198</th>\n",
       "      <td>6n2mau1fobf3vnki5p3l5xf52</td>\n",
       "      <td>5400007</td>\n",
       "      <td>2089-12-01</td>\n",
       "      <td>0347029</td>\n",
       "      <td>EP</td>\n",
       "      <td>NaN</td>\n",
       "      <td>1</td>\n",
       "      <td>2089.0</td>\n",
       "      <td>2080.0</td>\n",
       "    </tr>\n",
       "    <tr>\n",
       "      <th>5358281</th>\n",
       "      <td>6yanei21atwp7xogyt8x5hzlj</td>\n",
       "      <td>8206476</td>\n",
       "      <td>2035-02-01</td>\n",
       "      <td>102005008667</td>\n",
       "      <td>DE</td>\n",
       "      <td>cited by other</td>\n",
       "      <td>1</td>\n",
       "      <td>2035.0</td>\n",
       "      <td>2030.0</td>\n",
       "    </tr>\n",
       "    <tr>\n",
       "      <th>6362369</th>\n",
       "      <td>89827qe6vqfeb9ruc4dcvbto0</td>\n",
       "      <td>5482714</td>\n",
       "      <td>2087-05-01</td>\n",
       "      <td>222580</td>\n",
       "      <td>EP</td>\n",
       "      <td>NaN</td>\n",
       "      <td>0</td>\n",
       "      <td>2087.0</td>\n",
       "      <td>2080.0</td>\n",
       "    </tr>\n",
       "    <tr>\n",
       "      <th>6398005</th>\n",
       "      <td>8awk7aqmt8y3gbt916o9n830s</td>\n",
       "      <td>5339837</td>\n",
       "      <td>2183-07-01</td>\n",
       "      <td>3246513</td>\n",
       "      <td>DE</td>\n",
       "      <td>NaN</td>\n",
       "      <td>3</td>\n",
       "      <td>2183.0</td>\n",
       "      <td>2180.0</td>\n",
       "    </tr>\n",
       "    <tr>\n",
       "      <th>6903864</th>\n",
       "      <td>8yilzbixsiktfx6z9ipzflxua</td>\n",
       "      <td>4868104</td>\n",
       "      <td>2085-06-01</td>\n",
       "      <td>WO8502628</td>\n",
       "      <td>WO</td>\n",
       "      <td>NaN</td>\n",
       "      <td>7</td>\n",
       "      <td>2085.0</td>\n",
       "      <td>2080.0</td>\n",
       "    </tr>\n",
       "    <tr>\n",
       "      <th>8022364</th>\n",
       "      <td>aerwunbg0m72rizl5p5sq4wn4</td>\n",
       "      <td>5264101</td>\n",
       "      <td>2191-08-01</td>\n",
       "      <td>0442177A1</td>\n",
       "      <td>EP</td>\n",
       "      <td>NaN</td>\n",
       "      <td>1</td>\n",
       "      <td>2191.0</td>\n",
       "      <td>2190.0</td>\n",
       "    </tr>\n",
       "    <tr>\n",
       "      <th>8700690</th>\n",
       "      <td>bai8yiga09uu905nmspbmuawy</td>\n",
       "      <td>8213902</td>\n",
       "      <td>2088-07-01</td>\n",
       "      <td>63168755</td>\n",
       "      <td>JP</td>\n",
       "      <td>cited by other</td>\n",
       "      <td>1</td>\n",
       "      <td>2088.0</td>\n",
       "      <td>2080.0</td>\n",
       "    </tr>\n",
       "    <tr>\n",
       "      <th>14920078</th>\n",
       "      <td>jda5m41dngmas9oc434dwqul7</td>\n",
       "      <td>5047866</td>\n",
       "      <td>2089-04-01</td>\n",
       "      <td>0088989</td>\n",
       "      <td>JP</td>\n",
       "      <td>NaN</td>\n",
       "      <td>3</td>\n",
       "      <td>2089.0</td>\n",
       "      <td>2080.0</td>\n",
       "    </tr>\n",
       "    <tr>\n",
       "      <th>15427084</th>\n",
       "      <td>k0yu2vxupek3e9nlzrrgnqmow</td>\n",
       "      <td>5376307</td>\n",
       "      <td>2190-03-01</td>\n",
       "      <td>0359569</td>\n",
       "      <td>EP</td>\n",
       "      <td>NaN</td>\n",
       "      <td>0</td>\n",
       "      <td>2190.0</td>\n",
       "      <td>2190.0</td>\n",
       "    </tr>\n",
       "    <tr>\n",
       "      <th>16423692</th>\n",
       "      <td>lbkxwxc4xrkiytfdjz35rlxpa</td>\n",
       "      <td>8217066</td>\n",
       "      <td>2020-12-01</td>\n",
       "      <td>WO-2010-141761</td>\n",
       "      <td>WO</td>\n",
       "      <td>cited by other</td>\n",
       "      <td>45</td>\n",
       "      <td>2020.0</td>\n",
       "      <td>2020.0</td>\n",
       "    </tr>\n",
       "    <tr>\n",
       "      <th>17253880</th>\n",
       "      <td>meee40lfh4dqw7zcywpxmls1v</td>\n",
       "      <td>5364951</td>\n",
       "      <td>2180-08-01</td>\n",
       "      <td>WO80/01692</td>\n",
       "      <td>WO</td>\n",
       "      <td>NaN</td>\n",
       "      <td>2</td>\n",
       "      <td>2180.0</td>\n",
       "      <td>2180.0</td>\n",
       "    </tr>\n",
       "    <tr>\n",
       "      <th>17926121</th>\n",
       "      <td>n9y2x8ek6erblqcrr0db15qjj</td>\n",
       "      <td>5178720</td>\n",
       "      <td>2189-09-01</td>\n",
       "      <td>WP89/08731</td>\n",
       "      <td>WO</td>\n",
       "      <td>NaN</td>\n",
       "      <td>7</td>\n",
       "      <td>2189.0</td>\n",
       "      <td>2180.0</td>\n",
       "    </tr>\n",
       "    <tr>\n",
       "      <th>17928400</th>\n",
       "      <td>na1yed6qkou9lbsldbta4dpwt</td>\n",
       "      <td>8273043</td>\n",
       "      <td>2024-10-01</td>\n",
       "      <td>405327</td>\n",
       "      <td>DE</td>\n",
       "      <td>cited by other</td>\n",
       "      <td>5</td>\n",
       "      <td>2024.0</td>\n",
       "      <td>2020.0</td>\n",
       "    </tr>\n",
       "    <tr>\n",
       "      <th>19139242</th>\n",
       "      <td>ouofio63ubhej1rj2200lfb8r</td>\n",
       "      <td>5514885</td>\n",
       "      <td>2183-12-01</td>\n",
       "      <td>221207A1</td>\n",
       "      <td>DE</td>\n",
       "      <td>NaN</td>\n",
       "      <td>1</td>\n",
       "      <td>2183.0</td>\n",
       "      <td>2180.0</td>\n",
       "    </tr>\n",
       "    <tr>\n",
       "      <th>20453290</th>\n",
       "      <td>qk7h2r89juh1382om9bipbnwh</td>\n",
       "      <td>5267816</td>\n",
       "      <td>2173-03-01</td>\n",
       "      <td>1310474</td>\n",
       "      <td>GB</td>\n",
       "      <td>NaN</td>\n",
       "      <td>21</td>\n",
       "      <td>2173.0</td>\n",
       "      <td>2170.0</td>\n",
       "    </tr>\n",
       "    <tr>\n",
       "      <th>22664561</th>\n",
       "      <td>tfrt4xofffznjh9p3yhuhgyvp</td>\n",
       "      <td>5489678</td>\n",
       "      <td>2184-03-01</td>\n",
       "      <td>0103197</td>\n",
       "      <td>EP</td>\n",
       "      <td>NaN</td>\n",
       "      <td>2</td>\n",
       "      <td>2184.0</td>\n",
       "      <td>2180.0</td>\n",
       "    </tr>\n",
       "    <tr>\n",
       "      <th>23052326</th>\n",
       "      <td>txxxn96jztd2cp2qwl4hbkx7d</td>\n",
       "      <td>5413956</td>\n",
       "      <td>2180-07-01</td>\n",
       "      <td>55-27474-B</td>\n",
       "      <td>JP</td>\n",
       "      <td>NaN</td>\n",
       "      <td>3</td>\n",
       "      <td>2180.0</td>\n",
       "      <td>2180.0</td>\n",
       "    </tr>\n",
       "    <tr>\n",
       "      <th>23162245</th>\n",
       "      <td>u32er2pkgexn8wlzifjp5qoy3</td>\n",
       "      <td>4860900</td>\n",
       "      <td>2075-03-01</td>\n",
       "      <td>2345118</td>\n",
       "      <td>DE</td>\n",
       "      <td>NaN</td>\n",
       "      <td>2</td>\n",
       "      <td>2075.0</td>\n",
       "      <td>2070.0</td>\n",
       "    </tr>\n",
       "    <tr>\n",
       "      <th>23826339</th>\n",
       "      <td>uy5m75dj5r1cirojjdyj1rp9v</td>\n",
       "      <td>4872888</td>\n",
       "      <td>2086-08-01</td>\n",
       "      <td>0238467</td>\n",
       "      <td>DD</td>\n",
       "      <td>NaN</td>\n",
       "      <td>3</td>\n",
       "      <td>2086.0</td>\n",
       "      <td>2080.0</td>\n",
       "    </tr>\n",
       "    <tr>\n",
       "      <th>26554266</th>\n",
       "      <td>yi0twjljxstfz2sw059mg1cvi</td>\n",
       "      <td>8289264</td>\n",
       "      <td>2206-10-01</td>\n",
       "      <td>2006-276362</td>\n",
       "      <td>JP</td>\n",
       "      <td>cited by other</td>\n",
       "      <td>2</td>\n",
       "      <td>2206.0</td>\n",
       "      <td>2200.0</td>\n",
       "    </tr>\n",
       "  </tbody>\n",
       "</table>\n",
       "</div>"
      ],
      "text/plain": [
       "                               uuid patent_id       date          number  \\\n",
       "2756072   3kqloun8z4na55mqvl6k2xyfd   5537533 2094-04-01  PCT/US94/04326   \n",
       "5118198   6n2mau1fobf3vnki5p3l5xf52   5400007 2089-12-01         0347029   \n",
       "5358281   6yanei21atwp7xogyt8x5hzlj   8206476 2035-02-01    102005008667   \n",
       "6362369   89827qe6vqfeb9ruc4dcvbto0   5482714 2087-05-01          222580   \n",
       "6398005   8awk7aqmt8y3gbt916o9n830s   5339837 2183-07-01         3246513   \n",
       "6903864   8yilzbixsiktfx6z9ipzflxua   4868104 2085-06-01       WO8502628   \n",
       "8022364   aerwunbg0m72rizl5p5sq4wn4   5264101 2191-08-01       0442177A1   \n",
       "8700690   bai8yiga09uu905nmspbmuawy   8213902 2088-07-01        63168755   \n",
       "14920078  jda5m41dngmas9oc434dwqul7   5047866 2089-04-01         0088989   \n",
       "15427084  k0yu2vxupek3e9nlzrrgnqmow   5376307 2190-03-01         0359569   \n",
       "16423692  lbkxwxc4xrkiytfdjz35rlxpa   8217066 2020-12-01  WO-2010-141761   \n",
       "17253880  meee40lfh4dqw7zcywpxmls1v   5364951 2180-08-01      WO80/01692   \n",
       "17926121  n9y2x8ek6erblqcrr0db15qjj   5178720 2189-09-01      WP89/08731   \n",
       "17928400  na1yed6qkou9lbsldbta4dpwt   8273043 2024-10-01          405327   \n",
       "19139242  ouofio63ubhej1rj2200lfb8r   5514885 2183-12-01        221207A1   \n",
       "20453290  qk7h2r89juh1382om9bipbnwh   5267816 2173-03-01         1310474   \n",
       "22664561  tfrt4xofffznjh9p3yhuhgyvp   5489678 2184-03-01         0103197   \n",
       "23052326  txxxn96jztd2cp2qwl4hbkx7d   5413956 2180-07-01      55-27474-B   \n",
       "23162245  u32er2pkgexn8wlzifjp5qoy3   4860900 2075-03-01         2345118   \n",
       "23826339  uy5m75dj5r1cirojjdyj1rp9v   4872888 2086-08-01         0238467   \n",
       "26554266  yi0twjljxstfz2sw059mg1cvi   8289264 2206-10-01     2006-276362   \n",
       "\n",
       "         country        category  sequence    year  decade  \n",
       "2756072       WO             NaN         0  2094.0  2090.0  \n",
       "5118198       EP             NaN         1  2089.0  2080.0  \n",
       "5358281       DE  cited by other         1  2035.0  2030.0  \n",
       "6362369       EP             NaN         0  2087.0  2080.0  \n",
       "6398005       DE             NaN         3  2183.0  2180.0  \n",
       "6903864       WO             NaN         7  2085.0  2080.0  \n",
       "8022364       EP             NaN         1  2191.0  2190.0  \n",
       "8700690       JP  cited by other         1  2088.0  2080.0  \n",
       "14920078      JP             NaN         3  2089.0  2080.0  \n",
       "15427084      EP             NaN         0  2190.0  2190.0  \n",
       "16423692      WO  cited by other        45  2020.0  2020.0  \n",
       "17253880      WO             NaN         2  2180.0  2180.0  \n",
       "17926121      WO             NaN         7  2189.0  2180.0  \n",
       "17928400      DE  cited by other         5  2024.0  2020.0  \n",
       "19139242      DE             NaN         1  2183.0  2180.0  \n",
       "20453290      GB             NaN        21  2173.0  2170.0  \n",
       "22664561      EP             NaN         2  2184.0  2180.0  \n",
       "23052326      JP             NaN         3  2180.0  2180.0  \n",
       "23162245      DE             NaN         2  2075.0  2070.0  \n",
       "23826339      DD             NaN         3  2086.0  2080.0  \n",
       "26554266      JP  cited by other         2  2206.0  2200.0  "
      ]
     },
     "execution_count": 9,
     "metadata": {},
     "output_type": "execute_result"
    }
   ],
   "source": [
    "df[df['year']>2019]\n"
   ]
  },
  {
   "cell_type": "code",
   "execution_count": 10,
   "metadata": {},
   "outputs": [],
   "source": [
    "# distribution of foreign citations per year\n",
    "patent='data/cleanpatent.parquet.gz'\n",
    "df_pat = pd.read_parquet(patent)"
   ]
  },
  {
   "cell_type": "code",
   "execution_count": 11,
   "metadata": {},
   "outputs": [],
   "source": [
    "df_pat=df_pat.join(df[['patent_id', 'uuid']].set_index('patent_id'), rsuffix='_int', how='inner')"
   ]
  },
  {
   "cell_type": "code",
   "execution_count": 12,
   "metadata": {},
   "outputs": [
    {
     "data": {
      "text/plain": [
       "year\n",
       "1681.0    1\n",
       "1682.0    2\n",
       "1683.0    1\n",
       "1684.0    3\n",
       "1685.0    1\n",
       "dtype: int64"
      ]
     },
     "execution_count": 12,
     "metadata": {},
     "output_type": "execute_result"
    }
   ],
   "source": [
    "df.groupby('year').size().head()"
   ]
  },
  {
   "cell_type": "code",
   "execution_count": 13,
   "metadata": {},
   "outputs": [
    {
     "data": {
      "text/html": [
       "<div>\n",
       "<style scoped>\n",
       "    .dataframe tbody tr th:only-of-type {\n",
       "        vertical-align: middle;\n",
       "    }\n",
       "\n",
       "    .dataframe tbody tr th {\n",
       "        vertical-align: top;\n",
       "    }\n",
       "\n",
       "    .dataframe thead th {\n",
       "        text-align: right;\n",
       "    }\n",
       "</style>\n",
       "<table border=\"1\" class=\"dataframe\">\n",
       "  <thead>\n",
       "    <tr style=\"text-align: right;\">\n",
       "      <th></th>\n",
       "      <th>date</th>\n",
       "      <th>num_claims</th>\n",
       "      <th>uuid</th>\n",
       "    </tr>\n",
       "  </thead>\n",
       "  <tbody>\n",
       "    <tr>\n",
       "      <th>10000000</th>\n",
       "      <td>2018</td>\n",
       "      <td>20</td>\n",
       "      <td>jjityud8xfravzocclacy281x</td>\n",
       "    </tr>\n",
       "    <tr>\n",
       "      <th>10000001</th>\n",
       "      <td>2018</td>\n",
       "      <td>12</td>\n",
       "      <td>6u1w18s8jiy7crduagvq6sjju</td>\n",
       "    </tr>\n",
       "    <tr>\n",
       "      <th>10000001</th>\n",
       "      <td>2018</td>\n",
       "      <td>12</td>\n",
       "      <td>ismlsv9kspebbwe4mgwwdrcqd</td>\n",
       "    </tr>\n",
       "    <tr>\n",
       "      <th>10000001</th>\n",
       "      <td>2018</td>\n",
       "      <td>12</td>\n",
       "      <td>nxk3q3cdn0a14czoglsmi22qt</td>\n",
       "    </tr>\n",
       "    <tr>\n",
       "      <th>10000001</th>\n",
       "      <td>2018</td>\n",
       "      <td>12</td>\n",
       "      <td>usfmq49qkx9r5o35g6pg1u4nc</td>\n",
       "    </tr>\n",
       "  </tbody>\n",
       "</table>\n",
       "</div>"
      ],
      "text/plain": [
       "          date  num_claims                       uuid\n",
       "10000000  2018          20  jjityud8xfravzocclacy281x\n",
       "10000001  2018          12  6u1w18s8jiy7crduagvq6sjju\n",
       "10000001  2018          12  ismlsv9kspebbwe4mgwwdrcqd\n",
       "10000001  2018          12  nxk3q3cdn0a14czoglsmi22qt\n",
       "10000001  2018          12  usfmq49qkx9r5o35g6pg1u4nc"
      ]
     },
     "execution_count": 13,
     "metadata": {},
     "output_type": "execute_result"
    }
   ],
   "source": [
    "df_pat.head()"
   ]
  },
  {
   "cell_type": "code",
   "execution_count": 23,
   "metadata": {},
   "outputs": [
    {
     "ename": "KeyError",
     "evalue": "'year'",
     "output_type": "error",
     "traceback": [
      "\u001b[0;31m---------------------------------------------------------------------------\u001b[0m",
      "\u001b[0;31mKeyError\u001b[0m                                  Traceback (most recent call last)",
      "\u001b[0;32m~/anaconda3/lib/python3.7/site-packages/pandas/core/indexes/base.py\u001b[0m in \u001b[0;36mget_loc\u001b[0;34m(self, key, method, tolerance)\u001b[0m\n\u001b[1;32m   2894\u001b[0m             \u001b[0;32mtry\u001b[0m\u001b[0;34m:\u001b[0m\u001b[0;34m\u001b[0m\u001b[0;34m\u001b[0m\u001b[0m\n\u001b[0;32m-> 2895\u001b[0;31m                 \u001b[0;32mreturn\u001b[0m \u001b[0mself\u001b[0m\u001b[0;34m.\u001b[0m\u001b[0m_engine\u001b[0m\u001b[0;34m.\u001b[0m\u001b[0mget_loc\u001b[0m\u001b[0;34m(\u001b[0m\u001b[0mcasted_key\u001b[0m\u001b[0;34m)\u001b[0m\u001b[0;34m\u001b[0m\u001b[0;34m\u001b[0m\u001b[0m\n\u001b[0m\u001b[1;32m   2896\u001b[0m             \u001b[0;32mexcept\u001b[0m \u001b[0mKeyError\u001b[0m \u001b[0;32mas\u001b[0m \u001b[0merr\u001b[0m\u001b[0;34m:\u001b[0m\u001b[0;34m\u001b[0m\u001b[0;34m\u001b[0m\u001b[0m\n",
      "\u001b[0;32mpandas/_libs/index.pyx\u001b[0m in \u001b[0;36mpandas._libs.index.IndexEngine.get_loc\u001b[0;34m()\u001b[0m\n",
      "\u001b[0;32mpandas/_libs/index.pyx\u001b[0m in \u001b[0;36mpandas._libs.index.IndexEngine.get_loc\u001b[0;34m()\u001b[0m\n",
      "\u001b[0;32mpandas/_libs/hashtable_class_helper.pxi\u001b[0m in \u001b[0;36mpandas._libs.hashtable.PyObjectHashTable.get_item\u001b[0;34m()\u001b[0m\n",
      "\u001b[0;32mpandas/_libs/hashtable_class_helper.pxi\u001b[0m in \u001b[0;36mpandas._libs.hashtable.PyObjectHashTable.get_item\u001b[0;34m()\u001b[0m\n",
      "\u001b[0;31mKeyError\u001b[0m: 'year'",
      "\nThe above exception was the direct cause of the following exception:\n",
      "\u001b[0;31mKeyError\u001b[0m                                  Traceback (most recent call last)",
      "\u001b[0;32m<ipython-input-23-8b1357bf9228>\u001b[0m in \u001b[0;36m<module>\u001b[0;34m\u001b[0m\n\u001b[1;32m      3\u001b[0m \u001b[0;34m\u001b[0m\u001b[0m\n\u001b[1;32m      4\u001b[0m \u001b[0mlabel\u001b[0m\u001b[0;34m=\u001b[0m\u001b[0;34m\"Grant year of cited foreign patents\"\u001b[0m\u001b[0;34m\u001b[0m\u001b[0;34m\u001b[0m\u001b[0m\n\u001b[0;32m----> 5\u001b[0;31m \u001b[0max1\u001b[0m\u001b[0;34m=\u001b[0m\u001b[0mdf\u001b[0m\u001b[0;34m[\u001b[0m\u001b[0;34m(\u001b[0m\u001b[0mdf\u001b[0m\u001b[0;34m[\u001b[0m\u001b[0;34m'year'\u001b[0m\u001b[0;34m]\u001b[0m\u001b[0;34m>\u001b[0m\u001b[0;36m1980\u001b[0m\u001b[0;34m)\u001b[0m \u001b[0;34m&\u001b[0m \u001b[0;34m(\u001b[0m\u001b[0mdf\u001b[0m\u001b[0;34m[\u001b[0m\u001b[0;34m'year'\u001b[0m\u001b[0;34m]\u001b[0m\u001b[0;34m<\u001b[0m\u001b[0;36m2019\u001b[0m\u001b[0;34m)\u001b[0m\u001b[0;34m]\u001b[0m\u001b[0;34m.\u001b[0m\u001b[0mgroupby\u001b[0m\u001b[0;34m(\u001b[0m\u001b[0;34m'year'\u001b[0m\u001b[0;34m)\u001b[0m\u001b[0;34m.\u001b[0m\u001b[0msize\u001b[0m\u001b[0;34m(\u001b[0m\u001b[0;34m)\u001b[0m\u001b[0;34m.\u001b[0m\u001b[0mplot\u001b[0m\u001b[0;34m(\u001b[0m\u001b[0mfigsize\u001b[0m\u001b[0;34m=\u001b[0m\u001b[0;34m(\u001b[0m\u001b[0;36m14\u001b[0m\u001b[0;34m,\u001b[0m\u001b[0;36m7\u001b[0m\u001b[0;34m)\u001b[0m\u001b[0;34m,\u001b[0m \u001b[0mtitle\u001b[0m\u001b[0;34m=\u001b[0m\u001b[0mtitle\u001b[0m\u001b[0;34m,\u001b[0m \u001b[0mlabel\u001b[0m\u001b[0;34m=\u001b[0m\u001b[0mlabel\u001b[0m\u001b[0;34m,\u001b[0m \u001b[0mlegend\u001b[0m\u001b[0;34m=\u001b[0m\u001b[0;32mTrue\u001b[0m\u001b[0;34m)\u001b[0m\u001b[0;34m\u001b[0m\u001b[0;34m\u001b[0m\u001b[0m\n\u001b[0m\u001b[1;32m      6\u001b[0m \u001b[0;34m\u001b[0m\u001b[0m\n\u001b[1;32m      7\u001b[0m \u001b[0mlabel\u001b[0m\u001b[0;34m=\u001b[0m\u001b[0;34m'Citation of international patents per year'\u001b[0m\u001b[0;34m\u001b[0m\u001b[0;34m\u001b[0m\u001b[0m\n",
      "\u001b[0;32m~/anaconda3/lib/python3.7/site-packages/pandas/core/frame.py\u001b[0m in \u001b[0;36m__getitem__\u001b[0;34m(self, key)\u001b[0m\n\u001b[1;32m   2900\u001b[0m             \u001b[0;32mif\u001b[0m \u001b[0mself\u001b[0m\u001b[0;34m.\u001b[0m\u001b[0mcolumns\u001b[0m\u001b[0;34m.\u001b[0m\u001b[0mnlevels\u001b[0m \u001b[0;34m>\u001b[0m \u001b[0;36m1\u001b[0m\u001b[0;34m:\u001b[0m\u001b[0;34m\u001b[0m\u001b[0;34m\u001b[0m\u001b[0m\n\u001b[1;32m   2901\u001b[0m                 \u001b[0;32mreturn\u001b[0m \u001b[0mself\u001b[0m\u001b[0;34m.\u001b[0m\u001b[0m_getitem_multilevel\u001b[0m\u001b[0;34m(\u001b[0m\u001b[0mkey\u001b[0m\u001b[0;34m)\u001b[0m\u001b[0;34m\u001b[0m\u001b[0;34m\u001b[0m\u001b[0m\n\u001b[0;32m-> 2902\u001b[0;31m             \u001b[0mindexer\u001b[0m \u001b[0;34m=\u001b[0m \u001b[0mself\u001b[0m\u001b[0;34m.\u001b[0m\u001b[0mcolumns\u001b[0m\u001b[0;34m.\u001b[0m\u001b[0mget_loc\u001b[0m\u001b[0;34m(\u001b[0m\u001b[0mkey\u001b[0m\u001b[0;34m)\u001b[0m\u001b[0;34m\u001b[0m\u001b[0;34m\u001b[0m\u001b[0m\n\u001b[0m\u001b[1;32m   2903\u001b[0m             \u001b[0;32mif\u001b[0m \u001b[0mis_integer\u001b[0m\u001b[0;34m(\u001b[0m\u001b[0mindexer\u001b[0m\u001b[0;34m)\u001b[0m\u001b[0;34m:\u001b[0m\u001b[0;34m\u001b[0m\u001b[0;34m\u001b[0m\u001b[0m\n\u001b[1;32m   2904\u001b[0m                 \u001b[0mindexer\u001b[0m \u001b[0;34m=\u001b[0m \u001b[0;34m[\u001b[0m\u001b[0mindexer\u001b[0m\u001b[0;34m]\u001b[0m\u001b[0;34m\u001b[0m\u001b[0;34m\u001b[0m\u001b[0m\n",
      "\u001b[0;32m~/anaconda3/lib/python3.7/site-packages/pandas/core/indexes/base.py\u001b[0m in \u001b[0;36mget_loc\u001b[0;34m(self, key, method, tolerance)\u001b[0m\n\u001b[1;32m   2895\u001b[0m                 \u001b[0;32mreturn\u001b[0m \u001b[0mself\u001b[0m\u001b[0;34m.\u001b[0m\u001b[0m_engine\u001b[0m\u001b[0;34m.\u001b[0m\u001b[0mget_loc\u001b[0m\u001b[0;34m(\u001b[0m\u001b[0mcasted_key\u001b[0m\u001b[0;34m)\u001b[0m\u001b[0;34m\u001b[0m\u001b[0;34m\u001b[0m\u001b[0m\n\u001b[1;32m   2896\u001b[0m             \u001b[0;32mexcept\u001b[0m \u001b[0mKeyError\u001b[0m \u001b[0;32mas\u001b[0m \u001b[0merr\u001b[0m\u001b[0;34m:\u001b[0m\u001b[0;34m\u001b[0m\u001b[0;34m\u001b[0m\u001b[0m\n\u001b[0;32m-> 2897\u001b[0;31m                 \u001b[0;32mraise\u001b[0m \u001b[0mKeyError\u001b[0m\u001b[0;34m(\u001b[0m\u001b[0mkey\u001b[0m\u001b[0;34m)\u001b[0m \u001b[0;32mfrom\u001b[0m \u001b[0merr\u001b[0m\u001b[0;34m\u001b[0m\u001b[0;34m\u001b[0m\u001b[0m\n\u001b[0m\u001b[1;32m   2898\u001b[0m \u001b[0;34m\u001b[0m\u001b[0m\n\u001b[1;32m   2899\u001b[0m         \u001b[0;32mif\u001b[0m \u001b[0mtolerance\u001b[0m \u001b[0;32mis\u001b[0m \u001b[0;32mnot\u001b[0m \u001b[0;32mNone\u001b[0m\u001b[0;34m:\u001b[0m\u001b[0;34m\u001b[0m\u001b[0;34m\u001b[0m\u001b[0m\n",
      "\u001b[0;31mKeyError\u001b[0m: 'year'"
     ]
    },
    {
     "data": {
      "image/png": "[encoded data removed]",
      "text/plain": [
       "<Figure size 432x288 with 2 Axes>"
      ]
     },
     "metadata": {
      "needs_background": "light"
     },
     "output_type": "display_data"
    }
   ],
   "source": [
    "title=\"International Patents citation behavior\"\n",
    "fig, (ax1, ax2) = plt.subplots(1,2)\n",
    "\n",
    "label=\"Grant year of cited foreign patents\"\n",
    "ax1=df[(df['year']>1980) & (df['year']<2019)].groupby('year').size().plot(figsize=(14,7), title=title, label=label, legend=True)\n",
    "\n",
    "label='Citation of international patents per year'\n",
    "df_pat.groupby('date').size().plot(ax=ax1, label=label, legend=True)\n",
    "\n",
    "title='Average citations to international patents, per year'\n",
    "df_pat.reset_index().groupby(['date', 'index']).count().reset_index().groupby('date').mean().uuid.plot(ax=ax2)\n",
    "\n",
    "#filename='./img/international_patents.png'  \n",
    "#plt.savefig(filename) \n",
    "#plt.show()\n"
   ]
  },
  {
   "cell_type": "code",
   "execution_count": 15,
   "metadata": {},
   "outputs": [
    {
     "data": {
      "text/plain": [
       "patent_id  year  \n",
       "10000000   2005.0    1\n",
       "10000001   2002.0    1\n",
       "           2005.0    1\n",
       "           2009.0    1\n",
       "           2013.0    1\n",
       "                    ..\n",
       "RE47643    2000.0    1\n",
       "           2001.0    4\n",
       "           2002.0    2\n",
       "           2006.0    7\n",
       "           2007.0    2\n",
       "Length: 15417588, dtype: int64"
      ]
     },
     "execution_count": 15,
     "metadata": {},
     "output_type": "execute_result"
    }
   ],
   "source": [
    "#the patterns calls for further examination\n",
    "df.groupby(['patent_id','year']).size()"
   ]
  },
  {
   "cell_type": "code",
   "execution_count": 16,
   "metadata": {},
   "outputs": [],
   "source": [
    "#df=df.groupby('patent_id').count()['number']\n",
    "#df=df.to_frame()\n",
    "#df.columns = ['foreign_cit']"
   ]
  },
  {
   "cell_type": "markdown",
   "metadata": {},
   "source": [
    "## Applications"
   ]
  },
  {
   "cell_type": "code",
   "execution_count": 17,
   "metadata": {},
   "outputs": [
    {
     "name": "stderr",
     "output_type": "stream",
     "text": [
      "/home/renato/anaconda3/lib/python3.7/site-packages/IPython/core/interactiveshell.py:3147: DtypeWarning: Columns (2,3) have mixed types.Specify dtype option on import or set low_memory=False.\n",
      "  interactivity=interactivity, compiler=compiler, result=result)\n"
     ]
    },
    {
     "data": {
      "text/html": [
       "<div>\n",
       "<style scoped>\n",
       "    .dataframe tbody tr th:only-of-type {\n",
       "        vertical-align: middle;\n",
       "    }\n",
       "\n",
       "    .dataframe tbody tr th {\n",
       "        vertical-align: top;\n",
       "    }\n",
       "\n",
       "    .dataframe thead th {\n",
       "        text-align: right;\n",
       "    }\n",
       "</style>\n",
       "<table border=\"1\" class=\"dataframe\">\n",
       "  <thead>\n",
       "    <tr style=\"text-align: right;\">\n",
       "      <th></th>\n",
       "      <th>id</th>\n",
       "      <th>patent_id</th>\n",
       "      <th>series_code</th>\n",
       "      <th>number</th>\n",
       "      <th>country</th>\n",
       "      <th>date</th>\n",
       "    </tr>\n",
       "  </thead>\n",
       "  <tbody>\n",
       "    <tr>\n",
       "      <th>0</th>\n",
       "      <td>02/002761</td>\n",
       "      <td>D345393</td>\n",
       "      <td>2</td>\n",
       "      <td>2002761</td>\n",
       "      <td>US</td>\n",
       "      <td>1992-12-21</td>\n",
       "    </tr>\n",
       "    <tr>\n",
       "      <th>1</th>\n",
       "      <td>02/007691</td>\n",
       "      <td>5164715</td>\n",
       "      <td>2</td>\n",
       "      <td>2007691</td>\n",
       "      <td>US</td>\n",
       "      <td>1990-04-10</td>\n",
       "    </tr>\n",
       "    <tr>\n",
       "      <th>2</th>\n",
       "      <td>02/010248</td>\n",
       "      <td>5177974</td>\n",
       "      <td>2</td>\n",
       "      <td>2010248</td>\n",
       "      <td>US</td>\n",
       "      <td>1988-06-23</td>\n",
       "    </tr>\n",
       "    <tr>\n",
       "      <th>3</th>\n",
       "      <td>02/020141</td>\n",
       "      <td>5379515</td>\n",
       "      <td>2</td>\n",
       "      <td>2020141</td>\n",
       "      <td>US</td>\n",
       "      <td>1994-02-16</td>\n",
       "    </tr>\n",
       "    <tr>\n",
       "      <th>4</th>\n",
       "      <td>02/027172</td>\n",
       "      <td>5264790</td>\n",
       "      <td>2</td>\n",
       "      <td>2027172</td>\n",
       "      <td>US</td>\n",
       "      <td>1991-07-01</td>\n",
       "    </tr>\n",
       "  </tbody>\n",
       "</table>\n",
       "</div>"
      ],
      "text/plain": [
       "          id patent_id series_code   number country        date\n",
       "0  02/002761   D345393           2  2002761      US  1992-12-21\n",
       "1  02/007691   5164715           2  2007691      US  1990-04-10\n",
       "2  02/010248   5177974           2  2010248      US  1988-06-23\n",
       "3  02/020141   5379515           2  2020141      US  1994-02-16\n",
       "4  02/027172   5264790           2  2027172      US  1991-07-01"
      ]
     },
     "execution_count": 17,
     "metadata": {},
     "output_type": "execute_result"
    }
   ],
   "source": [
    "application='data/application.tsv.zip'\n",
    "df=pd.read_csv(application, compression='zip', sep='\\t')\n",
    "df.head()"
   ]
  },
  {
   "cell_type": "code",
   "execution_count": 18,
   "metadata": {},
   "outputs": [
    {
     "data": {
      "text/plain": [
       "US    6819362\n",
       "Name: country, dtype: int64"
      ]
     },
     "execution_count": 18,
     "metadata": {},
     "output_type": "execute_result"
    }
   ],
   "source": [
    "df.country.value_counts()"
   ]
  },
  {
   "cell_type": "code",
   "execution_count": 19,
   "metadata": {},
   "outputs": [],
   "source": [
    "df=df[['patent_id','date']]"
   ]
  },
  {
   "cell_type": "code",
   "execution_count": 20,
   "metadata": {},
   "outputs": [
    {
     "data": {
      "text/html": [
       "<div>\n",
       "<style scoped>\n",
       "    .dataframe tbody tr th:only-of-type {\n",
       "        vertical-align: middle;\n",
       "    }\n",
       "\n",
       "    .dataframe tbody tr th {\n",
       "        vertical-align: top;\n",
       "    }\n",
       "\n",
       "    .dataframe thead th {\n",
       "        text-align: right;\n",
       "    }\n",
       "</style>\n",
       "<table border=\"1\" class=\"dataframe\">\n",
       "  <thead>\n",
       "    <tr style=\"text-align: right;\">\n",
       "      <th></th>\n",
       "      <th>patent_id</th>\n",
       "      <th>date</th>\n",
       "    </tr>\n",
       "  </thead>\n",
       "  <tbody>\n",
       "    <tr>\n",
       "      <th>0</th>\n",
       "      <td>D345393</td>\n",
       "      <td>1992-12-21</td>\n",
       "    </tr>\n",
       "    <tr>\n",
       "      <th>1</th>\n",
       "      <td>5164715</td>\n",
       "      <td>1990-04-10</td>\n",
       "    </tr>\n",
       "    <tr>\n",
       "      <th>2</th>\n",
       "      <td>5177974</td>\n",
       "      <td>1988-06-23</td>\n",
       "    </tr>\n",
       "    <tr>\n",
       "      <th>3</th>\n",
       "      <td>5379515</td>\n",
       "      <td>1994-02-16</td>\n",
       "    </tr>\n",
       "    <tr>\n",
       "      <th>4</th>\n",
       "      <td>5264790</td>\n",
       "      <td>1991-07-01</td>\n",
       "    </tr>\n",
       "  </tbody>\n",
       "</table>\n",
       "</div>"
      ],
      "text/plain": [
       "  patent_id        date\n",
       "0   D345393  1992-12-21\n",
       "1   5164715  1990-04-10\n",
       "2   5177974  1988-06-23\n",
       "3   5379515  1994-02-16\n",
       "4   5264790  1991-07-01"
      ]
     },
     "execution_count": 20,
     "metadata": {},
     "output_type": "execute_result"
    }
   ],
   "source": [
    "df.head()"
   ]
  },
  {
   "cell_type": "code",
   "execution_count": 21,
   "metadata": {},
   "outputs": [
    {
     "data": {
      "text/plain": [
       "Index                    128\n",
       "patent_id           54554896\n",
       "application_date    54554896\n",
       "dtype: int64"
      ]
     },
     "execution_count": 21,
     "metadata": {},
     "output_type": "execute_result"
    }
   ],
   "source": [
    "dst='data/application.parquet.gz'\n",
    "df = df.rename(columns={'date': 'application_date'})\n",
    "#df.to_parquet(dst, compression='gzip', index=False)\n",
    "df.memory_usage()"
   ]
  },
  {
   "cell_type": "code",
   "execution_count": null,
   "metadata": {},
   "outputs": [],
   "source": []
  },
  {
   "cell_type": "code",
   "execution_count": 22,
   "metadata": {},
   "outputs": [],
   "source": [
    "max_value=[[]]\n",
    "if not max_value:\n",
    "    print('ok')"
   ]
  },
  {
   "cell_type": "code",
   "execution_count": null,
   "metadata": {},
   "outputs": [],
   "source": []
  }
 ],
 "metadata": {
  "kernelspec": {
   "display_name": "Python 3",
   "language": "python",
   "name": "python3"
  },
  "language_info": {
   "codemirror_mode": {
    "name": "ipython",
    "version": 3
   },
   "file_extension": ".py",
   "mimetype": "text/x-python",
   "name": "python",
   "nbconvert_exporter": "python",
   "pygments_lexer": "ipython3",
   "version": "3.7.7"
  }
 },
 "nbformat": 4,
 "nbformat_minor": 4
}
