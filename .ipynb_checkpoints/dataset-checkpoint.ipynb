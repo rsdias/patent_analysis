{
 "cells": [
  {
   "cell_type": "code",
   "execution_count": 1,
   "metadata": {},
   "outputs": [],
   "source": [
    "# Jan 30, 2020\n",
    "# Joined the 5 classification tables available\n",
    "# to be evaluated:\n",
    "    # join is left by default\n",
    "    # because I adopt cit_received as the leftmost data\n",
    "        # this dataset keep data on the patents who received citation\n",
    "    # I can make the first join as an 'outer' operation between cit_received and cit_made\n",
    "    # To be complete, I can begin with patent.csv.gz and make the first two joins with 'outer' type\n",
    "#     Ill git add now and try this\n",
    "    \n",
    "\n",
    "# Jan 29, 2020\n",
    "# many errors appeared after joining the dataset \n",
    "# i rewritten code into simpler scripts\n",
    "# this script joins variables together to be processed later\n",
    "\n",
    "# they are:\n",
    "#     - cit_delay - reads clean_patent and clean_uspatentcitation and calculates delay by patent\n",
    "#     - cit_made - reads clean_uspatentcitation and calculates citations made \n",
    "#     - cit_received - reads clean_uspatentcitation and calculates citations received\n",
    "#     - cit_tree - reads clean_uspatentcitation and cit_made and calculates parent_citation\n",
    "#     - generalit - reads wipo and clean_uspatentcitation and calculates generality\n",
    "#     - originality - reads wipo and clean_uspatentcitation and calculates originality\n",
    "#     - wipo_first_class - reads wipo and generates wipo_first_class\n",
    "\n",
    "# it is now way faster, but I cannot know for sure if this is a consequence of coding or something changed in \n",
    "# infrastructure. \n",
    "\n",
    "# since class is a variable that also appear in non-cited patents, I'll include them in the final step\n",
    "\n",
    "\n",
    "# Jan, 20th 2020\n",
    "# join delay and tree data to form the analysis dataset\n",
    "\n",
    "\n",
    "# In[2]:"
   ]
  },
  {
   "cell_type": "code",
   "execution_count": 2,
   "metadata": {},
   "outputs": [],
   "source": [
    "import pandas as pd\n",
    "import numpy as np\n",
    "import dask.dataframe as dd\n",
    "from dask.delayed import delayed\n",
    "\n",
    "\n",
    "def data_read(file, names, usecols, dtype):\n",
    "    df = dd.read_parquet(file, compression='gzip', names=names, usecols=usecols, dtype=dtype, index_col='id', header=0)\n",
    "    dfs.append(df)"
   ]
  },
  {
   "cell_type": "code",
   "execution_count": 3,
   "metadata": {},
   "outputs": [],
   "source": [
    "dst='data/dataset.parquet.gz'\n",
    "\n",
    "patent='data/cleanpatent.parquet.gz'\n",
    "received='data/cit_received.parquet.gz'\n",
    "made='data/cit_made.parquet.gz'\n",
    "received_delay='data/cit_received_delay.parquet.gz'\n",
    "made_delay='data/cit_made_delay.parquet.gz'\n",
    "# cit_tree = 'data/cit_tree.csv.gz'\n",
    "originality = 'data/originality.parquet.gz'\n",
    "generality = 'data/generality.parquet.gz'\n",
    "wipo = 'data/wipo.parquet.gz'\n",
    "centrality='data/centrality_pagerank.csv'\n",
    "int_ext_cit='data/int_ext_cit.parquet.gz'"
   ]
  },
  {
   "cell_type": "code",
   "execution_count": 4,
   "metadata": {},
   "outputs": [],
   "source": [
    "dfs=[]\n",
    "\n",
    "#adopting patent.csv as the reference of patents\n",
    "df = dd.read_parquet(patent, compression='gzip', dtype=object)\n",
    "df['num_claims']=df['num_claims'].astype(float) #int does not handle NAN values, so using float instead\n",
    "# df=df.set_index('id')"
   ]
  },
  {
   "cell_type": "code",
   "execution_count": 5,
   "metadata": {},
   "outputs": [
    {
     "name": "stdout",
     "output_type": "stream",
     "text": [
      "<class 'dask.dataframe.core.DataFrame'>\n",
      "Columns: 2 entries, date to num_claims\n",
      "dtypes: float64(1), int64(1)"
     ]
    }
   ],
   "source": [
    "df.info()"
   ]
  },
  {
   "cell_type": "code",
   "execution_count": 6,
   "metadata": {},
   "outputs": [],
   "source": [
    "#outer join to citation received\n",
    "#there are patents who received citations that are not in patent.csv.gz\n",
    "#for example, the very ancient ones"
   ]
  },
  {
   "cell_type": "code",
   "execution_count": 7,
   "metadata": {},
   "outputs": [],
   "source": [
    "df2 = dd.read_parquet(received, compression='gzip')\n",
    "df=df.join(df2, how='outer')\n",
    "df['cit_received']=df['cit_received'].fillna(0)"
   ]
  },
  {
   "cell_type": "code",
   "execution_count": 8,
   "metadata": {},
   "outputs": [
    {
     "name": "stdout",
     "output_type": "stream",
     "text": [
      "<class 'dask.dataframe.core.DataFrame'>\n",
      "Columns: 3 entries, date to cit_received\n",
      "dtypes: float64(1), int64(2)"
     ]
    }
   ],
   "source": [
    "df.info()"
   ]
  },
  {
   "cell_type": "code",
   "execution_count": 9,
   "metadata": {},
   "outputs": [],
   "source": [
    "#i dont see any reason for patents making citations not to appear in patent.csv.gz\n",
    "#so from this data on, the list of patents is stable\n",
    "#the number of rows should not change (check)\n",
    "df2 = dd.read_parquet(made, compression='gzip')\n",
    "df=df.join(df2, how='outer')"
   ]
  },
  {
   "cell_type": "code",
   "execution_count": 10,
   "metadata": {},
   "outputs": [
    {
     "name": "stdout",
     "output_type": "stream",
     "text": [
      "<class 'dask.dataframe.core.DataFrame'>\n",
      "Columns: 4 entries, date to cit_made\n",
      "dtypes: float64(1), int64(3)"
     ]
    }
   ],
   "source": [
    "df.info()"
   ]
  },
  {
   "cell_type": "code",
   "execution_count": 11,
   "metadata": {},
   "outputs": [],
   "source": [
    "df2 = dd.read_parquet(originality, compression='gzip')\n",
    "df=df.join(df2, how='outer')"
   ]
  },
  {
   "cell_type": "code",
   "execution_count": 12,
   "metadata": {},
   "outputs": [
    {
     "name": "stdout",
     "output_type": "stream",
     "text": [
      "<class 'dask.dataframe.core.DataFrame'>\n",
      "Columns: 5 entries, date to originality\n",
      "dtypes: float64(2), int64(3)"
     ]
    }
   ],
   "source": [
    "df.info()"
   ]
  },
  {
   "cell_type": "code",
   "execution_count": 13,
   "metadata": {},
   "outputs": [],
   "source": [
    "df2 = dd.read_parquet(generality, compression='gzip')\n",
    "df=df.join(df2, how='outer')"
   ]
  },
  {
   "cell_type": "code",
   "execution_count": 14,
   "metadata": {},
   "outputs": [
    {
     "name": "stdout",
     "output_type": "stream",
     "text": [
      "<class 'dask.dataframe.core.DataFrame'>\n",
      "Columns: 6 entries, date to generality\n",
      "dtypes: float64(3), int64(3)"
     ]
    }
   ],
   "source": [
    "df.info()"
   ]
  },
  {
   "cell_type": "code",
   "execution_count": 15,
   "metadata": {},
   "outputs": [],
   "source": [
    "df2 = dd.read_parquet(wipo, compression='gzip')\n",
    "df=df.join(df2, how='outer')"
   ]
  },
  {
   "cell_type": "code",
   "execution_count": 16,
   "metadata": {
    "scrolled": true
   },
   "outputs": [],
   "source": [
    "df2 = dd.read_parquet(int_ext_cit, compression='gzip', dtype=object)\n",
    "# df.set_index('index', inplace=True)\n",
    "df=df.join(df2, how='outer')"
   ]
  },
  {
   "cell_type": "code",
   "execution_count": 17,
   "metadata": {},
   "outputs": [
    {
     "name": "stdout",
     "output_type": "stream",
     "text": [
      "<class 'dask.dataframe.core.DataFrame'>\n",
      "Columns: 10 entries, date to far_external\n",
      "dtypes: category(2), float64(3), int64(5)"
     ]
    }
   ],
   "source": [
    "df.info()"
   ]
  },
  {
   "cell_type": "code",
   "execution_count": 18,
   "metadata": {},
   "outputs": [],
   "source": [
    "df2 = dd.read_csv(centrality, dtype=object)\n",
    "df2=df2.set_index('id')\n",
    "df=df.join(df2, how='outer')"
   ]
  },
  {
   "cell_type": "code",
   "execution_count": null,
   "metadata": {},
   "outputs": [],
   "source": [
    "# adding some new files\n",
    "inventor='data/inventor.parquet.gz'\n",
    "application='data/application.parquet.gz'\n",
    "foreign_cit='data/foreigncitation.parquet.gz'\n",
    "foreign_priority='data/foreign_priority.parquet.gz'\n",
    "pat_govt='data/df_pat_govt.parquet.gz'\n",
    "pat_assignee='data/pat_assignee.parquet.gz'\n",
    "otherref_cit = 'data/otherref_cit.parquet.gz'"
   ]
  },
  {
   "cell_type": "code",
   "execution_count": null,
   "metadata": {},
   "outputs": [],
   "source": [
    "df2 = dd.read_csv(inventor, dtype=object)\n",
    "df2=df2.set_index('patent_id')\n",
    "df=df.join(df2, how='outer')"
   ]
  },
  {
   "cell_type": "code",
   "execution_count": null,
   "metadata": {},
   "outputs": [],
   "source": [
    "df2 = dd.read_csv(application, dtype=object)\n",
    "df2=df2.set_index('patent_id')\n",
    "df=df.join(df2, how='outer')''"
   ]
  },
  {
   "cell_type": "code",
   "execution_count": null,
   "metadata": {},
   "outputs": [],
   "source": [
    "df2 = dd.read_csv(foreign_cit, dtype=object)\n",
    "df2=df2.set_index('patent_id')\n",
    "df=df.join(df2, how='outer')''"
   ]
  },
  {
   "cell_type": "code",
   "execution_count": null,
   "metadata": {},
   "outputs": [],
   "source": [
    "df2 = dd.read_csv(foreign_priority, dtype=object)\n",
    "df2=df2.set_index('patent_id')\n",
    "df=df.join(df2, how='outer')''"
   ]
  },
  {
   "cell_type": "code",
   "execution_count": null,
   "metadata": {},
   "outputs": [],
   "source": [
    "df2 = dd.read_csv(pat_govt, dtype=object)\n",
    "df2=df2.set_index('patent_id')\n",
    "df=df.join(df2, how='outer')''"
   ]
  },
  {
   "cell_type": "code",
   "execution_count": null,
   "metadata": {},
   "outputs": [],
   "source": [
    "df2 = dd.read_csv(pat_assignee, dtype=object)\n",
    "df2=df2.set_index('patent_id')\n",
    "df=df.join(df2, how='outer')''"
   ]
  },
  {
   "cell_type": "code",
   "execution_count": null,
   "metadata": {},
   "outputs": [],
   "source": [
    "df2 = dd.read_csv(otherref_cit, dtype=object)\n",
    "df2=df2.set_index('patent_id')\n",
    "df=df.join(df2, how='outer')''"
   ]
  },
  {
   "cell_type": "code",
   "execution_count": 19,
   "metadata": {},
   "outputs": [],
   "source": [
    "df=df.compute()"
   ]
  },
  {
   "cell_type": "code",
   "execution_count": 20,
   "metadata": {},
   "outputs": [
    {
     "name": "stdout",
     "output_type": "stream",
     "text": [
      "<class 'pandas.core.frame.DataFrame'>\n",
      "Index: 9677417 entries, 000004 to pctus9926473\n",
      "Data columns (total 11 columns):\n",
      " #   Column          Dtype   \n",
      "---  ------          -----   \n",
      " 0   date            float64 \n",
      " 1   num_claims      float64 \n",
      " 2   cit_received    float64 \n",
      " 3   cit_made        float64 \n",
      " 4   originality     float64 \n",
      " 5   generality      float64 \n",
      " 6   wipo_field_id   category\n",
      " 7   wipo_sector_id  category\n",
      " 8   external        float64 \n",
      " 9   far_external    float64 \n",
      " 10  pagerank        object  \n",
      "dtypes: category(2), float64(8), object(1)\n",
      "memory usage: 756.8+ MB\n"
     ]
    }
   ],
   "source": [
    "df.info()"
   ]
  },
  {
   "cell_type": "code",
   "execution_count": 21,
   "metadata": {},
   "outputs": [
    {
     "data": {
      "text/html": [
       "<div>\n",
       "<style scoped>\n",
       "    .dataframe tbody tr th:only-of-type {\n",
       "        vertical-align: middle;\n",
       "    }\n",
       "\n",
       "    .dataframe tbody tr th {\n",
       "        vertical-align: top;\n",
       "    }\n",
       "\n",
       "    .dataframe thead th {\n",
       "        text-align: right;\n",
       "    }\n",
       "</style>\n",
       "<table border=\"1\" class=\"dataframe\">\n",
       "  <thead>\n",
       "    <tr style=\"text-align: right;\">\n",
       "      <th></th>\n",
       "      <th>date</th>\n",
       "      <th>num_claims</th>\n",
       "      <th>cit_received</th>\n",
       "      <th>cit_made</th>\n",
       "      <th>originality</th>\n",
       "      <th>generality</th>\n",
       "      <th>wipo_field_id</th>\n",
       "      <th>wipo_sector_id</th>\n",
       "      <th>external</th>\n",
       "      <th>far_external</th>\n",
       "      <th>pagerank</th>\n",
       "    </tr>\n",
       "  </thead>\n",
       "  <tbody>\n",
       "    <tr>\n",
       "      <th>699084</th>\n",
       "      <td>NaN</td>\n",
       "      <td>NaN</td>\n",
       "      <td>3.0</td>\n",
       "      <td>NaN</td>\n",
       "      <td>NaN</td>\n",
       "      <td>0.000000</td>\n",
       "      <td>NaN</td>\n",
       "      <td>NaN</td>\n",
       "      <td>NaN</td>\n",
       "      <td>NaN</td>\n",
       "      <td>4.4413390041417596e-08</td>\n",
       "    </tr>\n",
       "    <tr>\n",
       "      <th>6437641</th>\n",
       "      <td>2002.0</td>\n",
       "      <td>20.0</td>\n",
       "      <td>58.0</td>\n",
       "      <td>11.0</td>\n",
       "      <td>0.000000</td>\n",
       "      <td>0.033888</td>\n",
       "      <td>04</td>\n",
       "      <td>Electrical Eng</td>\n",
       "      <td>2.0</td>\n",
       "      <td>10.0</td>\n",
       "      <td>2.651107236026776e-07</td>\n",
       "    </tr>\n",
       "    <tr>\n",
       "      <th>D545557</th>\n",
       "      <td>2007.0</td>\n",
       "      <td>1.0</td>\n",
       "      <td>33.0</td>\n",
       "      <td>32.0</td>\n",
       "      <td>NaN</td>\n",
       "      <td>NaN</td>\n",
       "      <td>NaN</td>\n",
       "      <td>NaN</td>\n",
       "      <td>NaN</td>\n",
       "      <td>NaN</td>\n",
       "      <td>1.0187779634319908e-07</td>\n",
       "    </tr>\n",
       "    <tr>\n",
       "      <th>5640892</th>\n",
       "      <td>1997.0</td>\n",
       "      <td>20.0</td>\n",
       "      <td>5.0</td>\n",
       "      <td>6.0</td>\n",
       "      <td>0.277778</td>\n",
       "      <td>0.500000</td>\n",
       "      <td>31</td>\n",
       "      <td>Mechanical Eng</td>\n",
       "      <td>4.0</td>\n",
       "      <td>5.0</td>\n",
       "      <td>6.339462011403021e-08</td>\n",
       "    </tr>\n",
       "    <tr>\n",
       "      <th>9206387</th>\n",
       "      <td>2015.0</td>\n",
       "      <td>33.0</td>\n",
       "      <td>7.0</td>\n",
       "      <td>76.0</td>\n",
       "      <td>0.432432</td>\n",
       "      <td>0.444444</td>\n",
       "      <td>13</td>\n",
       "      <td>Instruments</td>\n",
       "      <td>20.0</td>\n",
       "      <td>20.0</td>\n",
       "      <td>4.986957288492578e-08</td>\n",
       "    </tr>\n",
       "    <tr>\n",
       "      <th>3637992</th>\n",
       "      <td>NaN</td>\n",
       "      <td>NaN</td>\n",
       "      <td>2.0</td>\n",
       "      <td>NaN</td>\n",
       "      <td>NaN</td>\n",
       "      <td>0.000000</td>\n",
       "      <td>NaN</td>\n",
       "      <td>NaN</td>\n",
       "      <td>NaN</td>\n",
       "      <td>NaN</td>\n",
       "      <td>5.953347918202807e-08</td>\n",
       "    </tr>\n",
       "    <tr>\n",
       "      <th>4008255</th>\n",
       "      <td>1977.0</td>\n",
       "      <td>6.0</td>\n",
       "      <td>6.0</td>\n",
       "      <td>5.0</td>\n",
       "      <td>NaN</td>\n",
       "      <td>0.000000</td>\n",
       "      <td>14</td>\n",
       "      <td>Chemistry</td>\n",
       "      <td>NaN</td>\n",
       "      <td>NaN</td>\n",
       "      <td>9.034909128408943e-08</td>\n",
       "    </tr>\n",
       "    <tr>\n",
       "      <th>9823061</th>\n",
       "      <td>2017.0</td>\n",
       "      <td>19.0</td>\n",
       "      <td>0.0</td>\n",
       "      <td>9.0</td>\n",
       "      <td>0.000000</td>\n",
       "      <td>NaN</td>\n",
       "      <td>09</td>\n",
       "      <td>Instruments</td>\n",
       "      <td>6.0</td>\n",
       "      <td>9.0</td>\n",
       "      <td>3.881098877432008e-08</td>\n",
       "    </tr>\n",
       "    <tr>\n",
       "      <th>6332817</th>\n",
       "      <td>2001.0</td>\n",
       "      <td>2.0</td>\n",
       "      <td>4.0</td>\n",
       "      <td>5.0</td>\n",
       "      <td>0.000000</td>\n",
       "      <td>0.000000</td>\n",
       "      <td>32</td>\n",
       "      <td>Mechanical Eng</td>\n",
       "      <td>3.0</td>\n",
       "      <td>4.0</td>\n",
       "      <td>6.746816677140238e-08</td>\n",
       "    </tr>\n",
       "    <tr>\n",
       "      <th>7654944</th>\n",
       "      <td>2010.0</td>\n",
       "      <td>1.0</td>\n",
       "      <td>3.0</td>\n",
       "      <td>5.0</td>\n",
       "      <td>0.000000</td>\n",
       "      <td>0.000000</td>\n",
       "      <td>33</td>\n",
       "      <td>Other fields</td>\n",
       "      <td>5.0</td>\n",
       "      <td>5.0</td>\n",
       "      <td>4.389196715291236e-08</td>\n",
       "    </tr>\n",
       "  </tbody>\n",
       "</table>\n",
       "</div>"
      ],
      "text/plain": [
       "           date  num_claims  cit_received  cit_made  originality  generality  \\\n",
       "699084      NaN         NaN           3.0       NaN          NaN    0.000000   \n",
       "6437641  2002.0        20.0          58.0      11.0     0.000000    0.033888   \n",
       "D545557  2007.0         1.0          33.0      32.0          NaN         NaN   \n",
       "5640892  1997.0        20.0           5.0       6.0     0.277778    0.500000   \n",
       "9206387  2015.0        33.0           7.0      76.0     0.432432    0.444444   \n",
       "3637992     NaN         NaN           2.0       NaN          NaN    0.000000   \n",
       "4008255  1977.0         6.0           6.0       5.0          NaN    0.000000   \n",
       "9823061  2017.0        19.0           0.0       9.0     0.000000         NaN   \n",
       "6332817  2001.0         2.0           4.0       5.0     0.000000    0.000000   \n",
       "7654944  2010.0         1.0           3.0       5.0     0.000000    0.000000   \n",
       "\n",
       "        wipo_field_id  wipo_sector_id  external  far_external  \\\n",
       "699084            NaN             NaN       NaN           NaN   \n",
       "6437641            04  Electrical Eng       2.0          10.0   \n",
       "D545557           NaN             NaN       NaN           NaN   \n",
       "5640892            31  Mechanical Eng       4.0           5.0   \n",
       "9206387            13     Instruments      20.0          20.0   \n",
       "3637992           NaN             NaN       NaN           NaN   \n",
       "4008255            14       Chemistry       NaN           NaN   \n",
       "9823061            09     Instruments       6.0           9.0   \n",
       "6332817            32  Mechanical Eng       3.0           4.0   \n",
       "7654944            33    Other fields       5.0           5.0   \n",
       "\n",
       "                       pagerank  \n",
       "699084   4.4413390041417596e-08  \n",
       "6437641   2.651107236026776e-07  \n",
       "D545557  1.0187779634319908e-07  \n",
       "5640892   6.339462011403021e-08  \n",
       "9206387   4.986957288492578e-08  \n",
       "3637992   5.953347918202807e-08  \n",
       "4008255   9.034909128408943e-08  \n",
       "9823061   3.881098877432008e-08  \n",
       "6332817   6.746816677140238e-08  \n",
       "7654944   4.389196715291236e-08  "
      ]
     },
     "execution_count": 21,
     "metadata": {},
     "output_type": "execute_result"
    }
   ],
   "source": [
    "df.sample(n=10)"
   ]
  },
  {
   "cell_type": "code",
   "execution_count": 22,
   "metadata": {},
   "outputs": [
    {
     "data": {
      "text/html": [
       "<div>\n",
       "<style scoped>\n",
       "    .dataframe tbody tr th:only-of-type {\n",
       "        vertical-align: middle;\n",
       "    }\n",
       "\n",
       "    .dataframe tbody tr th {\n",
       "        vertical-align: top;\n",
       "    }\n",
       "\n",
       "    .dataframe thead th {\n",
       "        text-align: right;\n",
       "    }\n",
       "</style>\n",
       "<table border=\"1\" class=\"dataframe\">\n",
       "  <thead>\n",
       "    <tr style=\"text-align: right;\">\n",
       "      <th></th>\n",
       "      <th>date</th>\n",
       "      <th>num_claims</th>\n",
       "      <th>cit_received</th>\n",
       "      <th>cit_made</th>\n",
       "      <th>originality</th>\n",
       "      <th>generality</th>\n",
       "      <th>external</th>\n",
       "      <th>far_external</th>\n",
       "    </tr>\n",
       "  </thead>\n",
       "  <tbody>\n",
       "    <tr>\n",
       "      <th>count</th>\n",
       "      <td>7.430873e+06</td>\n",
       "      <td>7.430873e+06</td>\n",
       "      <td>9.677415e+06</td>\n",
       "      <td>6.993129e+06</td>\n",
       "      <td>6.324082e+06</td>\n",
       "      <td>7.097566e+06</td>\n",
       "      <td>5.757066e+06</td>\n",
       "      <td>5.757066e+06</td>\n",
       "    </tr>\n",
       "    <tr>\n",
       "      <th>mean</th>\n",
       "      <td>2.004755e+03</td>\n",
       "      <td>1.424143e+01</td>\n",
       "      <td>1.147255e+01</td>\n",
       "      <td>1.587624e+01</td>\n",
       "      <td>1.779464e-01</td>\n",
       "      <td>1.799363e-01</td>\n",
       "      <td>7.521218e+00</td>\n",
       "      <td>1.043347e+01</td>\n",
       "    </tr>\n",
       "    <tr>\n",
       "      <th>std</th>\n",
       "      <td>1.185321e+01</td>\n",
       "      <td>1.164018e+01</td>\n",
       "      <td>3.411512e+01</td>\n",
       "      <td>5.434047e+01</td>\n",
       "      <td>2.239259e-01</td>\n",
       "      <td>2.280400e-01</td>\n",
       "      <td>3.323117e+01</td>\n",
       "      <td>3.939346e+01</td>\n",
       "    </tr>\n",
       "    <tr>\n",
       "      <th>min</th>\n",
       "      <td>1.976000e+03</td>\n",
       "      <td>1.000000e+00</td>\n",
       "      <td>0.000000e+00</td>\n",
       "      <td>1.000000e+00</td>\n",
       "      <td>0.000000e+00</td>\n",
       "      <td>0.000000e+00</td>\n",
       "      <td>0.000000e+00</td>\n",
       "      <td>0.000000e+00</td>\n",
       "    </tr>\n",
       "    <tr>\n",
       "      <th>25%</th>\n",
       "      <td>1.997000e+03</td>\n",
       "      <td>6.000000e+00</td>\n",
       "      <td>1.000000e+00</td>\n",
       "      <td>4.000000e+00</td>\n",
       "      <td>0.000000e+00</td>\n",
       "      <td>0.000000e+00</td>\n",
       "      <td>1.000000e+00</td>\n",
       "      <td>2.000000e+00</td>\n",
       "    </tr>\n",
       "    <tr>\n",
       "      <th>50%</th>\n",
       "      <td>2.008000e+03</td>\n",
       "      <td>1.300000e+01</td>\n",
       "      <td>3.000000e+00</td>\n",
       "      <td>7.000000e+00</td>\n",
       "      <td>0.000000e+00</td>\n",
       "      <td>0.000000e+00</td>\n",
       "      <td>3.000000e+00</td>\n",
       "      <td>4.000000e+00</td>\n",
       "    </tr>\n",
       "    <tr>\n",
       "      <th>75%</th>\n",
       "      <td>2.015000e+03</td>\n",
       "      <td>2.000000e+01</td>\n",
       "      <td>1.100000e+01</td>\n",
       "      <td>1.300000e+01</td>\n",
       "      <td>3.750000e-01</td>\n",
       "      <td>4.062500e-01</td>\n",
       "      <td>6.000000e+00</td>\n",
       "      <td>9.000000e+00</td>\n",
       "    </tr>\n",
       "    <tr>\n",
       "      <th>max</th>\n",
       "      <td>2.020000e+03</td>\n",
       "      <td>8.870000e+02</td>\n",
       "      <td>4.677000e+03</td>\n",
       "      <td>5.841000e+03</td>\n",
       "      <td>8.000000e-01</td>\n",
       "      <td>8.000000e-01</td>\n",
       "      <td>4.310000e+03</td>\n",
       "      <td>4.376000e+03</td>\n",
       "    </tr>\n",
       "  </tbody>\n",
       "</table>\n",
       "</div>"
      ],
      "text/plain": [
       "               date    num_claims  cit_received      cit_made   originality  \\\n",
       "count  7.430873e+06  7.430873e+06  9.677415e+06  6.993129e+06  6.324082e+06   \n",
       "mean   2.004755e+03  1.424143e+01  1.147255e+01  1.587624e+01  1.779464e-01   \n",
       "std    1.185321e+01  1.164018e+01  3.411512e+01  5.434047e+01  2.239259e-01   \n",
       "min    1.976000e+03  1.000000e+00  0.000000e+00  1.000000e+00  0.000000e+00   \n",
       "25%    1.997000e+03  6.000000e+00  1.000000e+00  4.000000e+00  0.000000e+00   \n",
       "50%    2.008000e+03  1.300000e+01  3.000000e+00  7.000000e+00  0.000000e+00   \n",
       "75%    2.015000e+03  2.000000e+01  1.100000e+01  1.300000e+01  3.750000e-01   \n",
       "max    2.020000e+03  8.870000e+02  4.677000e+03  5.841000e+03  8.000000e-01   \n",
       "\n",
       "         generality      external  far_external  \n",
       "count  7.097566e+06  5.757066e+06  5.757066e+06  \n",
       "mean   1.799363e-01  7.521218e+00  1.043347e+01  \n",
       "std    2.280400e-01  3.323117e+01  3.939346e+01  \n",
       "min    0.000000e+00  0.000000e+00  0.000000e+00  \n",
       "25%    0.000000e+00  1.000000e+00  2.000000e+00  \n",
       "50%    0.000000e+00  3.000000e+00  4.000000e+00  \n",
       "75%    4.062500e-01  6.000000e+00  9.000000e+00  \n",
       "max    8.000000e-01  4.310000e+03  4.376000e+03  "
      ]
     },
     "execution_count": 22,
     "metadata": {},
     "output_type": "execute_result"
    }
   ],
   "source": [
    "df.describe()"
   ]
  },
  {
   "cell_type": "code",
   "execution_count": 23,
   "metadata": {},
   "outputs": [
    {
     "data": {
      "text/html": [
       "<div>\n",
       "<style scoped>\n",
       "    .dataframe tbody tr th:only-of-type {\n",
       "        vertical-align: middle;\n",
       "    }\n",
       "\n",
       "    .dataframe tbody tr th {\n",
       "        vertical-align: top;\n",
       "    }\n",
       "\n",
       "    .dataframe thead th {\n",
       "        text-align: right;\n",
       "    }\n",
       "</style>\n",
       "<table border=\"1\" class=\"dataframe\">\n",
       "  <thead>\n",
       "    <tr style=\"text-align: right;\">\n",
       "      <th></th>\n",
       "      <th>count</th>\n",
       "      <th>unique</th>\n",
       "      <th>top</th>\n",
       "      <th>freq</th>\n",
       "    </tr>\n",
       "  </thead>\n",
       "  <tbody>\n",
       "    <tr>\n",
       "      <th>pagerank</th>\n",
       "      <td>9417510</td>\n",
       "      <td>6353520</td>\n",
       "      <td>3.881098877432008e-08</td>\n",
       "      <td>1712807</td>\n",
       "    </tr>\n",
       "  </tbody>\n",
       "</table>\n",
       "</div>"
      ],
      "text/plain": [
       "            count   unique                    top     freq\n",
       "pagerank  9417510  6353520  3.881098877432008e-08  1712807"
      ]
     },
     "execution_count": 23,
     "metadata": {},
     "output_type": "execute_result"
    }
   ],
   "source": [
    "df.describe(include=[np.object]).transpose()"
   ]
  },
  {
   "cell_type": "code",
   "execution_count": 26,
   "metadata": {},
   "outputs": [],
   "source": [
    "df.to_parquet(dst, compression='gzip')"
   ]
  },
  {
   "cell_type": "code",
   "execution_count": 25,
   "metadata": {},
   "outputs": [],
   "source": [
    "# In[32]:\n",
    "\n",
    "\n",
    "# this code includes WIPO in the dataset\n",
    "# as class is also part of non-cited patents, I'm not including in here.\n",
    "# in any case, for some reason this merge could not be done by the method used in the previous\n",
    "# there is a bug when using read_csv.gz using dtype and indexing. \n",
    "# it is a known bug in the community but i do not know why the previous join did not accused the issue\n",
    "# the method below corrects the issue \n",
    "\n",
    "# names=['index', 'id', 'field_id']\n",
    "# dtype={'id':object}\n",
    "# usecols=['id', 'field_id']\n",
    "# # data_read(wipo, names, usecols, dtype)\n",
    "# wipo = pd.read_csv.gz(wipo, names=names, usecols=usecols, dtype=dtype, header=0)\n",
    "# wipo['id']=wipo['id'].astype(str)\n",
    "# wipo=wipo.set_index('id')\n",
    "# wipo.info()\n",
    "\n",
    "# dfs.append(wipo)"
   ]
  }
 ],
 "metadata": {
  "kernelspec": {
   "display_name": "Python 3",
   "language": "python",
   "name": "python3"
  },
  "language_info": {
   "codemirror_mode": {
    "name": "ipython",
    "version": 3
   },
   "file_extension": ".py",
   "mimetype": "text/x-python",
   "name": "python",
   "nbconvert_exporter": "python",
   "pygments_lexer": "ipython3",
   "version": "3.7.7"
  }
 },
 "nbformat": 4,
 "nbformat_minor": 4
}
