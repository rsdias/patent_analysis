{
 "cells": [
  {
   "cell_type": "code",
   "execution_count": 1,
   "metadata": {},
   "outputs": [],
   "source": [
    "#This script opens the other reference dataset and perform calculations on patent level\n",
    "#Renato Kogeyama\n",
    "\n",
    "#Rio de Janeiro, 24 de Setembro de 2021\n",
    "#Script to calculate non patent citations received by a patent\n"
   ]
  },
  {
   "cell_type": "code",
   "execution_count": 2,
   "metadata": {},
   "outputs": [],
   "source": [
    "import pandas as pd\n",
    "import numpy as np\n",
    "import re\n",
    "import glob\n",
    "\n",
    "pd.options.display.max_colwidth = 100"
   ]
  },
  {
   "cell_type": "code",
   "execution_count": 3,
   "metadata": {},
   "outputs": [],
   "source": [
    "file_list=glob.glob(\"data/clean_otherref*\")\n",
    "dfs = [pd.read_parquet(f, columns=['patent_id', 'text']) for f in file_list]\n",
    "dst = 'data/otherref_cit.parquet.gz'"
   ]
  },
  {
   "cell_type": "code",
   "execution_count": 4,
   "metadata": {},
   "outputs": [],
   "source": [
    "for i, df in enumerate(dfs):\n",
    "    if i==0:\n",
    "#        output=df.loc['10415016']\n",
    "        output=df.groupby(df.index).count() \n",
    "    else:\n",
    "        output=pd.concat([output, df.groupby(df.index).count()])\n",
    "#        output.append(df.loc['10415016'])\n"
   ]
  },
  {
   "cell_type": "code",
   "execution_count": 5,
   "metadata": {},
   "outputs": [],
   "source": [
    "# checa uma patente especifica - multiplas citacoes para uma mesma obra\n",
    "\n",
    "# output=[]\n",
    "# for df in dfs:\n",
    "#     output.append(df.loc['10415016'])"
   ]
  },
  {
   "cell_type": "code",
   "execution_count": 6,
   "metadata": {
    "scrolled": true
   },
   "outputs": [],
   "source": [
    "# for element in output:\n",
    "#     print(element)"
   ]
  },
  {
   "cell_type": "code",
   "execution_count": 7,
   "metadata": {},
   "outputs": [],
   "source": [
    "output=output.groupby(output.index).sum()"
   ]
  },
  {
   "cell_type": "code",
   "execution_count": 8,
   "metadata": {},
   "outputs": [
    {
     "data": {
      "text/html": [
       "<div>\n",
       "<style scoped>\n",
       "    .dataframe tbody tr th:only-of-type {\n",
       "        vertical-align: middle;\n",
       "    }\n",
       "\n",
       "    .dataframe tbody tr th {\n",
       "        vertical-align: top;\n",
       "    }\n",
       "\n",
       "    .dataframe thead th {\n",
       "        text-align: right;\n",
       "    }\n",
       "</style>\n",
       "<table border=\"1\" class=\"dataframe\">\n",
       "  <thead>\n",
       "    <tr style=\"text-align: right;\">\n",
       "      <th></th>\n",
       "      <th>text</th>\n",
       "    </tr>\n",
       "    <tr>\n",
       "      <th>patent_id</th>\n",
       "      <th></th>\n",
       "    </tr>\n",
       "  </thead>\n",
       "  <tbody>\n",
       "    <tr>\n",
       "      <th>10000000</th>\n",
       "      <td>6</td>\n",
       "    </tr>\n",
       "    <tr>\n",
       "      <th>10000002</th>\n",
       "      <td>2</td>\n",
       "    </tr>\n",
       "    <tr>\n",
       "      <th>10000003</th>\n",
       "      <td>2</td>\n",
       "    </tr>\n",
       "    <tr>\n",
       "      <th>10000005</th>\n",
       "      <td>2</td>\n",
       "    </tr>\n",
       "    <tr>\n",
       "      <th>10000006</th>\n",
       "      <td>1</td>\n",
       "    </tr>\n",
       "  </tbody>\n",
       "</table>\n",
       "</div>"
      ],
      "text/plain": [
       "           text\n",
       "patent_id      \n",
       "10000000      6\n",
       "10000002      2\n",
       "10000003      2\n",
       "10000005      2\n",
       "10000006      1"
      ]
     },
     "execution_count": 8,
     "metadata": {},
     "output_type": "execute_result"
    }
   ],
   "source": [
    "output.head()"
   ]
  },
  {
   "cell_type": "code",
   "execution_count": 9,
   "metadata": {},
   "outputs": [
    {
     "data": {
      "text/plain": [
       "[                                                                                                          text\n",
       " patent_id                                                                                                     \n",
       " D670692    NYTimes.com iRiver U10 1GB httpwww.nytimes.comtechnologypersonaltechmusicplayersiRiverU101GB3143...\n",
       " RE43119                                        Response for U.S. Appl. No. 12322858 filed May 3 2011 20 pages.\n",
       " 9441707    Interocean Systems Inc. Model 5000E Heavy Duty Underwater Release commercially available prior t...\n",
       " 7445817    Office of Energy Efficiency Using NonThermal Plasma Reactor to Reduce NOx Emissions from CIDI En...\n",
       " 10391397   Case 216cv00801RCJVCF Document 81 Defendant Fanduel Inc.s Notice of Withdrawal of Motion Seeking...\n",
       " ...                                                                                                        ...\n",
       " 9040445    International Search Report issued in International Application No. PCTGB2010052093 dated Apr. 8...\n",
       " 10333604   First Examination Report from foreign counterpart Australian Patent Application No. AU2017245425...\n",
       " 4422268     Montageanleitung Tonnengewoelbe Mounting Instructions for Roofing Members Published by Suckow  ...\n",
       " 9287675    Decision on Motion to Amend Claims entered Feb. 18 2014 in Case IPR201300268 for U.S. Pat. No. 7...\n",
       " 9492555           Wells et al. Additivity of mutational effects in proteins.  Biochemistry . 2937 850917 1990.\n",
       " \n",
       " [15728640 rows x 1 columns],\n",
       "                                                                                                           text\n",
       " patent_id                                                                                                     \n",
       " 9339622               English Translation of Chinese Examination Report Application No. 2007800266164 5 pages.\n",
       " 5013322     Surgery NewsAn Advertising supplement Aug. 1 1985 vol. 3 No. 15 Clayman Ovoid Model No. 8743 an...\n",
       " 8773357                                      U.S. Office Action dated Dec. 23 2011 in U.S. Appl. No. 12571157.\n",
       " 7307640            Duke Dreamcast Technical Specs Sega Dreamcast Review Sega Feb. 1999 www.gamerevolution.com.\n",
       " 8543711    Ranjan S. and Rolia J. Fu H. and Knightly E. QoSDriven Server Migration for Internet Data Center...\n",
       " ...                                                                                                        ...\n",
       " 9732075    Smith R.J. et al. OrexinHypocretin is Necessary for Contextdriven Cocaineseeking Neuropharmacolo...\n",
       " 6724065    Andoh et al. 1994 8220Design methodology for lowvoltage MOSFETS8221 IEEE International Electron ...\n",
       " 8204342                                             U.S. Appl. No. 12402817 filed Mar. 12 2009 Uchiyama et al.\n",
       " 10287321   Shiomi K et al. Sensitive and specific new enzymelinked immunosorbent assay for NERCmesothelin i...\n",
       " 8722518                                  Office Action of related U.S. Appl. No. 12502796 mailed Dec. 18 2012.\n",
       " \n",
       " [15728640 rows x 1 columns],\n",
       "                                                                                                           text\n",
       " patent_id                                                                                                     \n",
       " 9140992    Brunner Timothy. et al. High NA Lithographic Imaging at Brewsters Angle. SPIE U.S.A. vol. 4691 p...\n",
       " 8637529                                                           U.S. Appl. No. 12958115 Abbott Laboratories.\n",
       " 10106624                                       U.S. Appl. No. 13194904 Notice of Allowance dated Sep. 18 2013.\n",
       " 8236294    Gibbins A. M. V. Transgenic Poultry Technology and Food Production Animal Biotechnology Jan. 1 1...\n",
       " 10307830   Hidehiko Kimura Yun Wang Yoshiaki Akiniwa Keisuke Tanaka Misorientation Analysis of Plastic Defo...\n",
       " ...                                                                                                        ...\n",
       " 8782379                                                      Taiwan Search ReportTW097137397TIPO Sep. 30 2012.\n",
       " 8063023    RatkayTraub I et. al. Regenaration of rabbit cornea following excimer laser photorefractive kera...\n",
       " 8259769    Aoki et al. InGaAsInGaAsP MQW Electroabsorption Modulator Integrated With A DFB Laser Fabricated...\n",
       " 10165183   Kawanishi T. et al. Generation of HighResolution Stereo Panoramic Images by Omnidirectional Imag...\n",
       " 9028451                    European Search Report dated Apr. 17 2012 International Application No. 12157661.5.\n",
       " \n",
       " [8107859 rows x 1 columns]]"
      ]
     },
     "execution_count": 9,
     "metadata": {},
     "output_type": "execute_result"
    }
   ],
   "source": [
    "dfs"
   ]
  },
  {
   "cell_type": "code",
   "execution_count": 10,
   "metadata": {},
   "outputs": [],
   "source": [
    "output.rename(columns = {'text':\"other_ref\"}, inplace = True)"
   ]
  },
  {
   "cell_type": "code",
   "execution_count": 11,
   "metadata": {},
   "outputs": [
    {
     "data": {
      "text/html": [
       "<div>\n",
       "<style scoped>\n",
       "    .dataframe tbody tr th:only-of-type {\n",
       "        vertical-align: middle;\n",
       "    }\n",
       "\n",
       "    .dataframe tbody tr th {\n",
       "        vertical-align: top;\n",
       "    }\n",
       "\n",
       "    .dataframe thead th {\n",
       "        text-align: right;\n",
       "    }\n",
       "</style>\n",
       "<table border=\"1\" class=\"dataframe\">\n",
       "  <thead>\n",
       "    <tr style=\"text-align: right;\">\n",
       "      <th></th>\n",
       "      <th>other_ref</th>\n",
       "    </tr>\n",
       "    <tr>\n",
       "      <th>patent_id</th>\n",
       "      <th></th>\n",
       "    </tr>\n",
       "  </thead>\n",
       "  <tbody>\n",
       "    <tr>\n",
       "      <th>10415016</th>\n",
       "      <td>3009</td>\n",
       "    </tr>\n",
       "    <tr>\n",
       "      <th>10329543</th>\n",
       "      <td>3008</td>\n",
       "    </tr>\n",
       "    <tr>\n",
       "      <th>8401902</th>\n",
       "      <td>2964</td>\n",
       "    </tr>\n",
       "    <tr>\n",
       "      <th>7820193</th>\n",
       "      <td>2823</td>\n",
       "    </tr>\n",
       "    <tr>\n",
       "      <th>9487823</th>\n",
       "      <td>2725</td>\n",
       "    </tr>\n",
       "    <tr>\n",
       "      <th>9100375</th>\n",
       "      <td>2501</td>\n",
       "    </tr>\n",
       "    <tr>\n",
       "      <th>8112782</th>\n",
       "      <td>2483</td>\n",
       "    </tr>\n",
       "    <tr>\n",
       "      <th>9037713</th>\n",
       "      <td>2380</td>\n",
       "    </tr>\n",
       "    <tr>\n",
       "      <th>9094399</th>\n",
       "      <td>2376</td>\n",
       "    </tr>\n",
       "    <tr>\n",
       "      <th>9860283</th>\n",
       "      <td>2372</td>\n",
       "    </tr>\n",
       "    <tr>\n",
       "      <th>8637286</th>\n",
       "      <td>2336</td>\n",
       "    </tr>\n",
       "    <tr>\n",
       "      <th>8445244</th>\n",
       "      <td>2333</td>\n",
       "    </tr>\n",
       "    <tr>\n",
       "      <th>9413766</th>\n",
       "      <td>2333</td>\n",
       "    </tr>\n",
       "    <tr>\n",
       "      <th>8236539</th>\n",
       "      <td>2330</td>\n",
       "    </tr>\n",
       "    <tr>\n",
       "      <th>9479426</th>\n",
       "      <td>2317</td>\n",
       "    </tr>\n",
       "  </tbody>\n",
       "</table>\n",
       "</div>"
      ],
      "text/plain": [
       "           other_ref\n",
       "patent_id           \n",
       "10415016        3009\n",
       "10329543        3008\n",
       "8401902         2964\n",
       "7820193         2823\n",
       "9487823         2725\n",
       "9100375         2501\n",
       "8112782         2483\n",
       "9037713         2380\n",
       "9094399         2376\n",
       "9860283         2372\n",
       "8637286         2336\n",
       "8445244         2333\n",
       "9413766         2333\n",
       "8236539         2330\n",
       "9479426         2317"
      ]
     },
     "execution_count": 11,
     "metadata": {},
     "output_type": "execute_result"
    }
   ],
   "source": [
    "output.nlargest(15, 'other_ref')"
   ]
  },
  {
   "cell_type": "code",
   "execution_count": 12,
   "metadata": {},
   "outputs": [
    {
     "data": {
      "text/plain": [
       "Index        25760488\n",
       "other_ref    25760488\n",
       "dtype: int64"
      ]
     },
     "execution_count": 12,
     "metadata": {},
     "output_type": "execute_result"
    }
   ],
   "source": [
    "#output.to_parquet(dst, compression='gzip')\n",
    "output.memory_usage()"
   ]
  }
 ],
 "metadata": {
  "kernelspec": {
   "display_name": "Python 3",
   "language": "python",
   "name": "python3"
  },
  "language_info": {
   "codemirror_mode": {
    "name": "ipython",
    "version": 3
   },
   "file_extension": ".py",
   "mimetype": "text/x-python",
   "name": "python",
   "nbconvert_exporter": "python",
   "pygments_lexer": "ipython3",
   "version": "3.7.7"
  }
 },
 "nbformat": 4,
 "nbformat_minor": 4
}
