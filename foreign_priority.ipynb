{
 "cells": [
  {
   "cell_type": "code",
   "execution_count": 1,
   "metadata": {},
   "outputs": [],
   "source": [
    "# Rio de Janeiro, 23 de Setembro de 2021\n",
    "# Patents with foreign application\n",
    "# Citation to foreign patents (total count)\n",
    "# Applications (date)\n"
   ]
  },
  {
   "cell_type": "markdown",
   "metadata": {},
   "source": [
    "## Patents with foreign application\n",
    "- Information about an earlier patent filing in a foreign country which gives the claim priority \n"
   ]
  },
  {
   "cell_type": "code",
   "execution_count": 17,
   "metadata": {},
   "outputs": [],
   "source": [
    "import pandas as pd\n",
    "\n",
    "priority='data/foreign_priority.tsv.zip'\n",
    "df=pd.read_csv(priority, compression='zip', sep='\\t')"
   ]
  },
  {
   "cell_type": "code",
   "execution_count": 18,
   "metadata": {},
   "outputs": [],
   "source": [
    "dst='data/foreign_priority.parquet.gz'\n",
    "df=df[['patent_id','date', 'country_transformed']]\n",
    "df = df.rename(columns={'date': 'f_priority_date'})\n",
    "df.to_parquet(dst, compression='gzip')"
   ]
  },
  {
   "cell_type": "markdown",
   "metadata": {},
   "source": [
    "## Citation to foreign patents"
   ]
  },
  {
   "cell_type": "code",
   "execution_count": 4,
   "metadata": {},
   "outputs": [
    {
     "data": {
      "text/html": [
       "<div>\n",
       "<style scoped>\n",
       "    .dataframe tbody tr th:only-of-type {\n",
       "        vertical-align: middle;\n",
       "    }\n",
       "\n",
       "    .dataframe tbody tr th {\n",
       "        vertical-align: top;\n",
       "    }\n",
       "\n",
       "    .dataframe thead th {\n",
       "        text-align: right;\n",
       "    }\n",
       "</style>\n",
       "<table border=\"1\" class=\"dataframe\">\n",
       "  <thead>\n",
       "    <tr style=\"text-align: right;\">\n",
       "      <th></th>\n",
       "      <th>uuid</th>\n",
       "      <th>patent_id</th>\n",
       "      <th>date</th>\n",
       "      <th>number</th>\n",
       "      <th>country</th>\n",
       "      <th>category</th>\n",
       "      <th>sequence</th>\n",
       "    </tr>\n",
       "  </thead>\n",
       "  <tbody>\n",
       "    <tr>\n",
       "      <th>0</th>\n",
       "      <td>00000kn29m6rw14dilp4huhqa</td>\n",
       "      <td>9872910</td>\n",
       "      <td>2013-04-01</td>\n",
       "      <td>2013-512894</td>\n",
       "      <td>JP</td>\n",
       "      <td>cited by applicant</td>\n",
       "      <td>4</td>\n",
       "    </tr>\n",
       "    <tr>\n",
       "      <th>1</th>\n",
       "      <td>00000mb3si9yta1mr1mzzf7t3</td>\n",
       "      <td>7580255</td>\n",
       "      <td>2001-05-01</td>\n",
       "      <td>1 104 150</td>\n",
       "      <td>EP</td>\n",
       "      <td>cited by other</td>\n",
       "      <td>0</td>\n",
       "    </tr>\n",
       "    <tr>\n",
       "      <th>2</th>\n",
       "      <td>00007x6v2g3mhkq0vq9o2k3g3</td>\n",
       "      <td>10221436</td>\n",
       "      <td>2007-12-01</td>\n",
       "      <td>WO-2007138178</td>\n",
       "      <td>WO</td>\n",
       "      <td>cited by applicant</td>\n",
       "      <td>84</td>\n",
       "    </tr>\n",
       "    <tr>\n",
       "      <th>3</th>\n",
       "      <td>00009vc2dthuhusv4ftd964dp</td>\n",
       "      <td>5928533</td>\n",
       "      <td>1990-07-01</td>\n",
       "      <td>2641718</td>\n",
       "      <td>FR</td>\n",
       "      <td>NaN</td>\n",
       "      <td>1</td>\n",
       "    </tr>\n",
       "    <tr>\n",
       "      <th>4</th>\n",
       "      <td>0000clmhnekrrt61zwmx9n0s1</td>\n",
       "      <td>7223854</td>\n",
       "      <td>1993-04-01</td>\n",
       "      <td>WO 93/07898</td>\n",
       "      <td>WO</td>\n",
       "      <td>cited by other</td>\n",
       "      <td>6</td>\n",
       "    </tr>\n",
       "  </tbody>\n",
       "</table>\n",
       "</div>"
      ],
      "text/plain": [
       "                        uuid patent_id        date         number country  \\\n",
       "0  00000kn29m6rw14dilp4huhqa   9872910  2013-04-01    2013-512894      JP   \n",
       "1  00000mb3si9yta1mr1mzzf7t3   7580255  2001-05-01      1 104 150      EP   \n",
       "2  00007x6v2g3mhkq0vq9o2k3g3  10221436  2007-12-01  WO-2007138178      WO   \n",
       "3  00009vc2dthuhusv4ftd964dp   5928533  1990-07-01        2641718      FR   \n",
       "4  0000clmhnekrrt61zwmx9n0s1   7223854  1993-04-01    WO 93/07898      WO   \n",
       "\n",
       "             category  sequence  \n",
       "0  cited by applicant         4  \n",
       "1      cited by other         0  \n",
       "2  cited by applicant        84  \n",
       "3                 NaN         1  \n",
       "4      cited by other         6  "
      ]
     },
     "execution_count": 4,
     "metadata": {},
     "output_type": "execute_result"
    }
   ],
   "source": [
    "f_citation='data/foreigncitation.tsv.zip'\n",
    "df=pd.read_csv(f_citation, compression='zip', sep='\\t')\n",
    "df.head()    "
   ]
  },
  {
   "cell_type": "code",
   "execution_count": 14,
   "metadata": {},
   "outputs": [],
   "source": [
    "dst='data/foreigncitation.parquet.gz'\n",
    "df=df[['patent_id','date', 'country', 'category']]\n",
    "df = df.rename(columns={'date': 'f_citation_date'})\n",
    "df.to_parquet(dst, compression='gzip', index=False)"
   ]
  },
  {
   "cell_type": "markdown",
   "metadata": {},
   "source": [
    "## Applications"
   ]
  },
  {
   "cell_type": "code",
   "execution_count": null,
   "metadata": {},
   "outputs": [],
   "source": [
    "application='data/application.tsv.zip'\n",
    "df=pd.read_csv(application, compression='zip', sep='\\t')\n",
    "df.head()"
   ]
  },
  {
   "cell_type": "code",
   "execution_count": null,
   "metadata": {},
   "outputs": [],
   "source": [
    "df.country.value_counts()"
   ]
  },
  {
   "cell_type": "code",
   "execution_count": null,
   "metadata": {},
   "outputs": [],
   "source": [
    "df=df[['patent_id','date']]"
   ]
  },
  {
   "cell_type": "code",
   "execution_count": null,
   "metadata": {},
   "outputs": [],
   "source": [
    "df.head()"
   ]
  },
  {
   "cell_type": "code",
   "execution_count": null,
   "metadata": {},
   "outputs": [],
   "source": [
    "dst='data/application.parquet.gz'\n",
    "df = df.rename(columns={'date': 'application_date'})\n",
    "df.to_parquet(dst, compression='gzip', index=False)X"
   ]
  },
  {
   "cell_type": "code",
   "execution_count": null,
   "metadata": {},
   "outputs": [],
   "source": [
    "df2 = pd.read_parquet(dst)\n",
    "df2=df2.set_index('id')"
   ]
  },
  {
   "cell_type": "code",
   "execution_count": null,
   "metadata": {},
   "outputs": [],
   "source": [
    "df2"
   ]
  },
  {
   "cell_type": "code",
   "execution_count": null,
   "metadata": {},
   "outputs": [],
   "source": []
  }
 ],
 "metadata": {
  "kernelspec": {
   "display_name": "Python 3",
   "language": "python",
   "name": "python3"
  },
  "language_info": {
   "codemirror_mode": {
    "name": "ipython",
    "version": 3
   },
   "file_extension": ".py",
   "mimetype": "text/x-python",
   "name": "python",
   "nbconvert_exporter": "python",
   "pygments_lexer": "ipython3",
   "version": "3.7.7"
  }
 },
 "nbformat": 4,
 "nbformat_minor": 4
}
