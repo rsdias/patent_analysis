{
 "cells": [
  {
   "cell_type": "code",
   "execution_count": 1,
   "metadata": {},
   "outputs": [],
   "source": [
    "# Rio de Janeiro, 23 de Setembro de 2021\n",
    "# Patents with foreign application\n",
    "# Citation to foreign patents (total count)\n",
    "# Applications (date)\n",
    "# Inventor name (not used)\n",
    "# Inventor vs Patent (dummy)"
   ]
  },
  {
   "cell_type": "markdown",
   "metadata": {},
   "source": [
    "## Patents with foreign application\n",
    "- Information about an earlier patent filing in a foreign country which gives the claim priority \n"
   ]
  },
  {
   "cell_type": "code",
   "execution_count": 2,
   "metadata": {},
   "outputs": [
    {
     "data": {
      "text/html": [
       "<div>\n",
       "<style scoped>\n",
       "    .dataframe tbody tr th:only-of-type {\n",
       "        vertical-align: middle;\n",
       "    }\n",
       "\n",
       "    .dataframe tbody tr th {\n",
       "        vertical-align: top;\n",
       "    }\n",
       "\n",
       "    .dataframe thead th {\n",
       "        text-align: right;\n",
       "    }\n",
       "</style>\n",
       "<table border=\"1\" class=\"dataframe\">\n",
       "  <thead>\n",
       "    <tr style=\"text-align: right;\">\n",
       "      <th></th>\n",
       "      <th>uuid</th>\n",
       "      <th>sequence</th>\n",
       "      <th>kind</th>\n",
       "      <th>number</th>\n",
       "      <th>date</th>\n",
       "      <th>country</th>\n",
       "      <th>country_transformed</th>\n",
       "    </tr>\n",
       "    <tr>\n",
       "      <th>patent_id</th>\n",
       "      <th></th>\n",
       "      <th></th>\n",
       "      <th></th>\n",
       "      <th></th>\n",
       "      <th></th>\n",
       "      <th></th>\n",
       "      <th></th>\n",
       "    </tr>\n",
       "  </thead>\n",
       "  <tbody>\n",
       "    <tr>\n",
       "      <th>4579440</th>\n",
       "      <td>0000fiy95lpkqbtbss6subowv</td>\n",
       "      <td>0</td>\n",
       "      <td>NaN</td>\n",
       "      <td>57-203133</td>\n",
       "      <td>1982-11-18</td>\n",
       "      <td>JPX</td>\n",
       "      <td>JP</td>\n",
       "    </tr>\n",
       "    <tr>\n",
       "      <th>4736480</th>\n",
       "      <td>0000juwbvgjn7e8urioa1cey2</td>\n",
       "      <td>0</td>\n",
       "      <td>NaN</td>\n",
       "      <td>3511086</td>\n",
       "      <td>1985-03-27</td>\n",
       "      <td>DEX</td>\n",
       "      <td>DE</td>\n",
       "    </tr>\n",
       "    <tr>\n",
       "      <th>8001979</th>\n",
       "      <td>0001hk1wmzpro1aivmdrem8et</td>\n",
       "      <td>0</td>\n",
       "      <td>national</td>\n",
       "      <td>2006-121062</td>\n",
       "      <td>2006-04-25</td>\n",
       "      <td>JP</td>\n",
       "      <td>JP</td>\n",
       "    </tr>\n",
       "    <tr>\n",
       "      <th>D449111</th>\n",
       "      <td>0002e3kgnjfznhqethefkgky4</td>\n",
       "      <td>0</td>\n",
       "      <td>NaN</td>\n",
       "      <td>0110048</td>\n",
       "      <td>2001-01-09</td>\n",
       "      <td>HKX</td>\n",
       "      <td>HK</td>\n",
       "    </tr>\n",
       "    <tr>\n",
       "      <th>5228311</th>\n",
       "      <td>0002mrngzyzplm17id62801v0</td>\n",
       "      <td>0</td>\n",
       "      <td>NaN</td>\n",
       "      <td>4025984</td>\n",
       "      <td>1990-08-16</td>\n",
       "      <td>DEX</td>\n",
       "      <td>DE</td>\n",
       "    </tr>\n",
       "  </tbody>\n",
       "</table>\n",
       "</div>"
      ],
      "text/plain": [
       "                                uuid  sequence      kind       number  \\\n",
       "patent_id                                                               \n",
       "4579440    0000fiy95lpkqbtbss6subowv         0       NaN    57-203133   \n",
       "4736480    0000juwbvgjn7e8urioa1cey2         0       NaN      3511086   \n",
       "8001979    0001hk1wmzpro1aivmdrem8et         0  national  2006-121062   \n",
       "D449111    0002e3kgnjfznhqethefkgky4         0       NaN      0110048   \n",
       "5228311    0002mrngzyzplm17id62801v0         0       NaN      4025984   \n",
       "\n",
       "                 date country country_transformed  \n",
       "patent_id                                          \n",
       "4579440    1982-11-18     JPX                  JP  \n",
       "4736480    1985-03-27     DEX                  DE  \n",
       "8001979    2006-04-25      JP                  JP  \n",
       "D449111    2001-01-09     HKX                  HK  \n",
       "5228311    1990-08-16     DEX                  DE  "
      ]
     },
     "execution_count": 2,
     "metadata": {},
     "output_type": "execute_result"
    }
   ],
   "source": [
    "import pandas as pd\n",
    "\n",
    "priority='data/foreign_priority.tsv.zip'\n",
    "\n",
    "df=pd.read_csv(priority, compression='zip', sep='\\t', index_col='patent_id')\n",
    "\n",
    "df.head()"
   ]
  },
  {
   "cell_type": "code",
   "execution_count": 3,
   "metadata": {},
   "outputs": [],
   "source": [
    "dst='data/foreign_priority.parquet.gz'\n",
    "df=df[['date', 'country_transformed']]\n",
    "df.to_parquet(dst, compression='gzip')"
   ]
  },
  {
   "cell_type": "markdown",
   "metadata": {},
   "source": [
    "## Citation to foreign patents"
   ]
  },
  {
   "cell_type": "code",
   "execution_count": null,
   "metadata": {},
   "outputs": [],
   "source": [
    "f_citation='data/foreigncitation.tsv.zip'\n",
    "df=pd.read_csv(f_citation, compression='zip', sep='\\t', index_col='patent_id')\n",
    "df.head()    "
   ]
  },
  {
   "cell_type": "code",
   "execution_count": null,
   "metadata": {},
   "outputs": [],
   "source": [
    "dst='data/foreigncitation.parquet.gz'\n",
    "df=df[['date', 'country', 'category']]\n",
    "df.to_parquet(dst, compression='gzip')"
   ]
  },
  {
   "cell_type": "markdown",
   "metadata": {},
   "source": [
    "## Applications"
   ]
  },
  {
   "cell_type": "code",
   "execution_count": null,
   "metadata": {},
   "outputs": [],
   "source": [
    "application='data/application.tsv.zip'\n",
    "df=pd.read_csv(application, compression='zip', sep='\\t', index_col='patent_id')\n",
    "df.head()"
   ]
  },
  {
   "cell_type": "code",
   "execution_count": null,
   "metadata": {},
   "outputs": [],
   "source": [
    "dst='data/application.parquet.gz'\n",
    "df=df[['date', 'country']]\n",
    "df.to_parquet(dst, compression='gzip')"
   ]
  },
  {
   "cell_type": "markdown",
   "metadata": {},
   "source": [
    "## Inventor vs Patent"
   ]
  },
  {
   "cell_type": "code",
   "execution_count": null,
   "metadata": {},
   "outputs": [],
   "source": [
    "inventor='data/patent_inventor.tsv.zip'\n",
    "df=pd.read_csv(inventor, compression='zip', sep='\\t', index_col='patent_id')\n",
    "df.head()"
   ]
  },
  {
   "cell_type": "code",
   "execution_count": null,
   "metadata": {},
   "outputs": [],
   "source": [
    "dst='data/inventor.parquet.gz'\n",
    "df.to_parquet(dst, compression='gzip')"
   ]
  }
 ],
 "metadata": {
  "kernelspec": {
   "display_name": "Python 3",
   "language": "python",
   "name": "python3"
  },
  "language_info": {
   "codemirror_mode": {
    "name": "ipython",
    "version": 3
   },
   "file_extension": ".py",
   "mimetype": "text/x-python",
   "name": "python",
   "nbconvert_exporter": "python",
   "pygments_lexer": "ipython3",
   "version": "3.7.7"
  }
 },
 "nbformat": 4,
 "nbformat_minor": 4
}
