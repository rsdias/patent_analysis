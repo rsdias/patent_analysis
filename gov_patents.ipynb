{
 "cells": [
  {
   "cell_type": "code",
   "execution_count": 1,
   "metadata": {},
   "outputs": [],
   "source": [
    "# Sao Paulo, 03 de Novembro de 2021\n",
    "# Em resumo, o que importa e' a tabela patent_govintorg, que relaciona um patent_id a uma agencia governamental\n",
    "# Esta implicito uma dummy (se a patente tem interesse governamental) convertendo organization_id \n",
    "# Talvez valha a pena classificar as agencias em militar/civil\n",
    "\n",
    "# September 23rd, 2021\n",
    "# Sao tres tabelas, patent_contractawardnumber, patent_govintorg e government_organization.\n",
    "# De maior interesse e' o cruzamento entre as duas ultimas, para ver quais agencias contrataram quais patentes\n",
    "\n",
    "# February 14st, 2020\n",
    "# Government patents"
   ]
  },
  {
   "cell_type": "code",
   "execution_count": 2,
   "metadata": {},
   "outputs": [],
   "source": [
    "import pandas as pd\n",
    "import numpy as np\n",
    "import seaborn as sns\n",
    "import matplotlib.pyplot as plt"
   ]
  },
  {
   "cell_type": "code",
   "execution_count": 3,
   "metadata": {},
   "outputs": [],
   "source": [
    "#numero dos contratos\n",
    "#contract='data/patent_contractawardnumber.tsv.zip'\n",
    "#patente-organization_id\n",
    "pat_gov='data/patent_govintorg.tsv.zip'\n",
    "#dados das organizacao\n",
    "gov_org='data/government_organization.tsv.zip'\n",
    "\n",
    "patent='data/cleanpatent.parquet.gz'\n",
    "\n",
    "#df_contract=pd.read_csv(contract, compression='zip', sep='\\t')\n",
    "df_pat_govt=pd.read_csv(pat_gov, compression='zip',  sep='\\t', index_col='patent_id')\n",
    "df_gov_org=pd.read_csv(gov_org, compression='zip',  sep='\\t')\n",
    "df_pat = pd.read_parquet(patent)\n",
    "\n",
    "#df_class=pd.read_csv('data/wipo.tsv.zip', compression='zip', sep='\\t')"
   ]
  },
  {
   "cell_type": "code",
   "execution_count": 4,
   "metadata": {},
   "outputs": [],
   "source": [
    "#df_contract.describe()"
   ]
  },
  {
   "cell_type": "code",
   "execution_count": 5,
   "metadata": {
    "scrolled": true
   },
   "outputs": [
    {
     "data": {
      "text/html": [
       "<div>\n",
       "<style scoped>\n",
       "    .dataframe tbody tr th:only-of-type {\n",
       "        vertical-align: middle;\n",
       "    }\n",
       "\n",
       "    .dataframe tbody tr th {\n",
       "        vertical-align: top;\n",
       "    }\n",
       "\n",
       "    .dataframe thead th {\n",
       "        text-align: right;\n",
       "    }\n",
       "</style>\n",
       "<table border=\"1\" class=\"dataframe\">\n",
       "  <thead>\n",
       "    <tr style=\"text-align: right;\">\n",
       "      <th></th>\n",
       "      <th>organization_id</th>\n",
       "    </tr>\n",
       "    <tr>\n",
       "      <th>patent_id</th>\n",
       "      <th></th>\n",
       "    </tr>\n",
       "  </thead>\n",
       "  <tbody>\n",
       "    <tr>\n",
       "      <th>10000026</th>\n",
       "      <td>10</td>\n",
       "    </tr>\n",
       "    <tr>\n",
       "      <th>10000036</th>\n",
       "      <td>35</td>\n",
       "    </tr>\n",
       "    <tr>\n",
       "      <th>10000377</th>\n",
       "      <td>10</td>\n",
       "    </tr>\n",
       "    <tr>\n",
       "      <th>10000377</th>\n",
       "      <td>47</td>\n",
       "    </tr>\n",
       "    <tr>\n",
       "      <th>10000384</th>\n",
       "      <td>31</td>\n",
       "    </tr>\n",
       "  </tbody>\n",
       "</table>\n",
       "</div>"
      ],
      "text/plain": [
       "           organization_id\n",
       "patent_id                 \n",
       "10000026                10\n",
       "10000036                35\n",
       "10000377                10\n",
       "10000377                47\n",
       "10000384                31"
      ]
     },
     "execution_count": 5,
     "metadata": {},
     "output_type": "execute_result"
    }
   ],
   "source": [
    "df_pat_govt.head()"
   ]
  },
  {
   "cell_type": "code",
   "execution_count": 6,
   "metadata": {},
   "outputs": [],
   "source": [
    "df=df_pat_govt.merge(df_gov_org, left_on='organization_id', right_on='organization_id', how='inner')"
   ]
  },
  {
   "cell_type": "code",
   "execution_count": 7,
   "metadata": {},
   "outputs": [
    {
     "data": {
      "text/html": [
       "<div>\n",
       "<style scoped>\n",
       "    .dataframe tbody tr th:only-of-type {\n",
       "        vertical-align: middle;\n",
       "    }\n",
       "\n",
       "    .dataframe tbody tr th {\n",
       "        vertical-align: top;\n",
       "    }\n",
       "\n",
       "    .dataframe thead th {\n",
       "        text-align: right;\n",
       "    }\n",
       "</style>\n",
       "<table border=\"1\" class=\"dataframe\">\n",
       "  <thead>\n",
       "    <tr style=\"text-align: right;\">\n",
       "      <th></th>\n",
       "      <th>organization_id</th>\n",
       "      <th>name</th>\n",
       "      <th>level_one</th>\n",
       "      <th>level_two</th>\n",
       "      <th>level_three</th>\n",
       "    </tr>\n",
       "  </thead>\n",
       "  <tbody>\n",
       "    <tr>\n",
       "      <th>0</th>\n",
       "      <td>10</td>\n",
       "      <td>Department of Energy</td>\n",
       "      <td>Department of Energy</td>\n",
       "      <td>NaN</td>\n",
       "      <td>NaN</td>\n",
       "    </tr>\n",
       "    <tr>\n",
       "      <th>1</th>\n",
       "      <td>10</td>\n",
       "      <td>Department of Energy</td>\n",
       "      <td>Department of Energy</td>\n",
       "      <td>NaN</td>\n",
       "      <td>NaN</td>\n",
       "    </tr>\n",
       "    <tr>\n",
       "      <th>2</th>\n",
       "      <td>10</td>\n",
       "      <td>Department of Energy</td>\n",
       "      <td>Department of Energy</td>\n",
       "      <td>NaN</td>\n",
       "      <td>NaN</td>\n",
       "    </tr>\n",
       "    <tr>\n",
       "      <th>3</th>\n",
       "      <td>10</td>\n",
       "      <td>Department of Energy</td>\n",
       "      <td>Department of Energy</td>\n",
       "      <td>NaN</td>\n",
       "      <td>NaN</td>\n",
       "    </tr>\n",
       "    <tr>\n",
       "      <th>4</th>\n",
       "      <td>10</td>\n",
       "      <td>Department of Energy</td>\n",
       "      <td>Department of Energy</td>\n",
       "      <td>NaN</td>\n",
       "      <td>NaN</td>\n",
       "    </tr>\n",
       "  </tbody>\n",
       "</table>\n",
       "</div>"
      ],
      "text/plain": [
       "   organization_id                  name             level_one level_two  \\\n",
       "0               10  Department of Energy  Department of Energy       NaN   \n",
       "1               10  Department of Energy  Department of Energy       NaN   \n",
       "2               10  Department of Energy  Department of Energy       NaN   \n",
       "3               10  Department of Energy  Department of Energy       NaN   \n",
       "4               10  Department of Energy  Department of Energy       NaN   \n",
       "\n",
       "  level_three  \n",
       "0         NaN  \n",
       "1         NaN  \n",
       "2         NaN  \n",
       "3         NaN  \n",
       "4         NaN  "
      ]
     },
     "execution_count": 7,
     "metadata": {},
     "output_type": "execute_result"
    }
   ],
   "source": [
    "df.head()"
   ]
  },
  {
   "cell_type": "code",
   "execution_count": 9,
   "metadata": {},
   "outputs": [],
   "source": [
    "dst='data/df_pat_govt.parquet.gz'\n",
    "df_pat_govt = df_pat_govt.rename(columns={'organization_id': 'gov_organization_id'})\n",
    "#df_pat_govt.to_parquet(dst, compression='gzip')"
   ]
  },
  {
   "cell_type": "code",
   "execution_count": 10,
   "metadata": {},
   "outputs": [
    {
     "data": {
      "text/html": [
       "<div>\n",
       "<style scoped>\n",
       "    .dataframe tbody tr th:only-of-type {\n",
       "        vertical-align: middle;\n",
       "    }\n",
       "\n",
       "    .dataframe tbody tr th {\n",
       "        vertical-align: top;\n",
       "    }\n",
       "\n",
       "    .dataframe thead th {\n",
       "        text-align: right;\n",
       "    }\n",
       "</style>\n",
       "<table border=\"1\" class=\"dataframe\">\n",
       "  <thead>\n",
       "    <tr style=\"text-align: right;\">\n",
       "      <th></th>\n",
       "      <th>gov_organization_id</th>\n",
       "      <th>level_one</th>\n",
       "      <th>level_two</th>\n",
       "      <th>level_three</th>\n",
       "    </tr>\n",
       "    <tr>\n",
       "      <th>name</th>\n",
       "      <th></th>\n",
       "      <th></th>\n",
       "      <th></th>\n",
       "      <th></th>\n",
       "    </tr>\n",
       "  </thead>\n",
       "  <tbody>\n",
       "    <tr>\n",
       "      <th>National Institutes of Health</th>\n",
       "      <td>34437</td>\n",
       "      <td>34437</td>\n",
       "      <td>34437</td>\n",
       "      <td>0</td>\n",
       "    </tr>\n",
       "    <tr>\n",
       "      <th>United States Government</th>\n",
       "      <td>26850</td>\n",
       "      <td>26850</td>\n",
       "      <td>0</td>\n",
       "      <td>0</td>\n",
       "    </tr>\n",
       "    <tr>\n",
       "      <th>Department of Energy</th>\n",
       "      <td>24960</td>\n",
       "      <td>24960</td>\n",
       "      <td>0</td>\n",
       "      <td>0</td>\n",
       "    </tr>\n",
       "    <tr>\n",
       "      <th>National Science Foundation</th>\n",
       "      <td>13890</td>\n",
       "      <td>13890</td>\n",
       "      <td>0</td>\n",
       "      <td>0</td>\n",
       "    </tr>\n",
       "    <tr>\n",
       "      <th>Air Force</th>\n",
       "      <td>8144</td>\n",
       "      <td>8144</td>\n",
       "      <td>8144</td>\n",
       "      <td>0</td>\n",
       "    </tr>\n",
       "  </tbody>\n",
       "</table>\n",
       "</div>"
      ],
      "text/plain": [
       "                               gov_organization_id  level_one  level_two  \\\n",
       "name                                                                       \n",
       "National Institutes of Health                34437      34437      34437   \n",
       "United States Government                     26850      26850          0   \n",
       "Department of Energy                         24960      24960          0   \n",
       "National Science Foundation                  13890      13890          0   \n",
       "Air Force                                     8144       8144       8144   \n",
       "\n",
       "                               level_three  \n",
       "name                                        \n",
       "National Institutes of Health            0  \n",
       "United States Government                 0  \n",
       "Department of Energy                     0  \n",
       "National Science Foundation              0  \n",
       "Air Force                                0  "
      ]
     },
     "execution_count": 10,
     "metadata": {},
     "output_type": "execute_result"
    }
   ],
   "source": [
    "#as colunas quali perdem o sentido quando se agrupa\n",
    "df = df.rename(columns={'organization_id': 'gov_organization_id'})\n",
    "df.groupby('name').count().sort_values('gov_organization_id',ascending=False).head() "
   ]
  },
  {
   "cell_type": "code",
   "execution_count": 17,
   "metadata": {},
   "outputs": [
    {
     "data": {
      "text/html": [
       "<div>\n",
       "<style scoped>\n",
       "    .dataframe tbody tr th:only-of-type {\n",
       "        vertical-align: middle;\n",
       "    }\n",
       "\n",
       "    .dataframe tbody tr th {\n",
       "        vertical-align: top;\n",
       "    }\n",
       "\n",
       "    .dataframe thead th {\n",
       "        text-align: right;\n",
       "    }\n",
       "</style>\n",
       "<table border=\"1\" class=\"dataframe\">\n",
       "  <thead>\n",
       "    <tr style=\"text-align: right;\">\n",
       "      <th></th>\n",
       "      <th>date</th>\n",
       "      <th>num_claims</th>\n",
       "      <th>gov_organization_id</th>\n",
       "    </tr>\n",
       "    <tr>\n",
       "      <th>patent_id</th>\n",
       "      <th></th>\n",
       "      <th></th>\n",
       "      <th></th>\n",
       "    </tr>\n",
       "  </thead>\n",
       "  <tbody>\n",
       "    <tr>\n",
       "      <th>10000026</th>\n",
       "      <td>2018</td>\n",
       "      <td>18</td>\n",
       "      <td>10</td>\n",
       "    </tr>\n",
       "    <tr>\n",
       "      <th>10000036</th>\n",
       "      <td>2018</td>\n",
       "      <td>20</td>\n",
       "      <td>35</td>\n",
       "    </tr>\n",
       "    <tr>\n",
       "      <th>10000377</th>\n",
       "      <td>2018</td>\n",
       "      <td>20</td>\n",
       "      <td>10</td>\n",
       "    </tr>\n",
       "    <tr>\n",
       "      <th>10000377</th>\n",
       "      <td>2018</td>\n",
       "      <td>20</td>\n",
       "      <td>47</td>\n",
       "    </tr>\n",
       "    <tr>\n",
       "      <th>10000384</th>\n",
       "      <td>2018</td>\n",
       "      <td>12</td>\n",
       "      <td>31</td>\n",
       "    </tr>\n",
       "  </tbody>\n",
       "</table>\n",
       "</div>"
      ],
      "text/plain": [
       "           date  num_claims  gov_organization_id\n",
       "patent_id                                       \n",
       "10000026   2018          18                   10\n",
       "10000036   2018          20                   35\n",
       "10000377   2018          20                   10\n",
       "10000377   2018          20                   47\n",
       "10000384   2018          12                   31"
      ]
     },
     "execution_count": 17,
     "metadata": {},
     "output_type": "execute_result"
    }
   ],
   "source": [
    "# aqui associamos a patente a sua data de grant, o num de claims e o id do orgao governamental\n",
    "df2=df_pat.merge(df_pat_govt, left_index=True, right_on='patent_id', how='inner')\n",
    "df2.head()"
   ]
  },
  {
   "cell_type": "code",
   "execution_count": 14,
   "metadata": {},
   "outputs": [],
   "source": [
    "%matplotlib inline\n",
    "sns.set()\n",
    "%config InlineBackend.figure_format = 'retina'"
   ]
  },
  {
   "cell_type": "code",
   "execution_count": 18,
   "metadata": {},
   "outputs": [
    {
     "data": {
      "text/plain": [
       "<matplotlib.legend.Legend at 0x7f467c5da310>"
      ]
     },
     "execution_count": 18,
     "metadata": {},
     "output_type": "execute_result"
    },
    {
     "data": {
      "image/png": "[encoded data removed]",
      "text/plain": [
       "<Figure size 864x576 with 1 Axes>"
      ]
     },
     "metadata": {
      "image/png": {
       "height": 506,
       "width": 728
      }
     },
     "output_type": "display_data"
    }
   ],
   "source": [
    "fig, ax=plt.subplots(figsize=(12,8))\n",
    "df2.groupby('date').count().plot(ax=ax)\n",
    "ax.set_title('Number of Governmental Patent Grant', fontsize=20)\n",
    "plt.legend('')"
   ]
  },
  {
   "cell_type": "code",
   "execution_count": 20,
   "metadata": {},
   "outputs": [
    {
     "data": {
      "text/plain": [
       "[2010, 1970, 1980, 1990, 2000]"
      ]
     },
     "execution_count": 20,
     "metadata": {},
     "output_type": "execute_result"
    }
   ],
   "source": [
    "df2['decade']=df2.date.apply(lambda s: s//10*10)\n",
    "df2['decade'] =df2['decade'].apply(lambda x: int(x) if str(x) != 'nan' else np.nan)\n",
    "decades=list(df2.decade.unique())\n",
    "decades"
   ]
  },
  {
   "cell_type": "code",
   "execution_count": null,
   "metadata": {},
   "outputs": [],
   "source": [
    "#title=replace('_', ' ')\n",
    "fig, axes = plt.subplots(nrows=1, ncols=2, figsize=(14, 6))\n",
    "\n",
    "axes[0] = df2.groupby('date').count().plot(ax=axes[0])\n",
    "evl_title='Evolution of governmental patents\\n'\n",
    "axes[0].set_title(evl_title)\n",
    "axes[0].set_ylim(bottom=0)\n",
    "\n",
    "axes[1] = sns.boxplot(x='decade', y=df2.index, data=df2)\n",
    "\n",
    "box_title='Dispersion of government patents \\n'\n",
    "axes[1].set_title(box_title)\n",
    "axes[1].set_ylim(bottom=0)\n",
    "axes[1].set_ylabel(\"\")\n",
    "\n",
    "#filename='./img/evol_dispersion_'+variable.lower()+'.png'  \n",
    "#plt.savefig(filename) \n",
    "plt.show()"
   ]
  },
  {
   "cell_type": "code",
   "execution_count": 23,
   "metadata": {},
   "outputs": [
    {
     "data": {
      "text/plain": [
       "<AxesSubplot:xlabel='decade', ylabel='num_claims'>"
      ]
     },
     "execution_count": 23,
     "metadata": {},
     "output_type": "execute_result"
    },
    {
     "data": {
      "image/png": "[encoded data removed]",
      "text/plain": [
       "<Figure size 432x288 with 1 Axes>"
      ]
     },
     "metadata": {
      "image/png": {
       "height": 267,
       "width": 396
      }
     },
     "output_type": "display_data"
    }
   ],
   "source": [
    "sns.boxplot(x='decade', y='num_claims', data=df2)"
   ]
  },
  {
   "cell_type": "code",
   "execution_count": 24,
   "metadata": {},
   "outputs": [
    {
     "data": {
      "text/html": [
       "<div>\n",
       "<style scoped>\n",
       "    .dataframe tbody tr th:only-of-type {\n",
       "        vertical-align: middle;\n",
       "    }\n",
       "\n",
       "    .dataframe tbody tr th {\n",
       "        vertical-align: top;\n",
       "    }\n",
       "\n",
       "    .dataframe thead th {\n",
       "        text-align: right;\n",
       "    }\n",
       "</style>\n",
       "<table border=\"1\" class=\"dataframe\">\n",
       "  <thead>\n",
       "    <tr style=\"text-align: right;\">\n",
       "      <th></th>\n",
       "      <th>organization_id</th>\n",
       "      <th>name</th>\n",
       "      <th>level_one</th>\n",
       "      <th>level_two</th>\n",
       "      <th>level_three</th>\n",
       "    </tr>\n",
       "  </thead>\n",
       "  <tbody>\n",
       "    <tr>\n",
       "      <th>0</th>\n",
       "      <td>1</td>\n",
       "      <td>Department of Veterans Affairs</td>\n",
       "      <td>Department of Veterans Affairs</td>\n",
       "      <td>NaN</td>\n",
       "      <td>NaN</td>\n",
       "    </tr>\n",
       "    <tr>\n",
       "      <th>1</th>\n",
       "      <td>2</td>\n",
       "      <td>Department of Commerce</td>\n",
       "      <td>Department of Commerce</td>\n",
       "      <td>NaN</td>\n",
       "      <td>NaN</td>\n",
       "    </tr>\n",
       "    <tr>\n",
       "      <th>2</th>\n",
       "      <td>3</td>\n",
       "      <td>U.S. Census Bureau</td>\n",
       "      <td>Department of Commerce</td>\n",
       "      <td>U.S. Census Bureau</td>\n",
       "      <td>NaN</td>\n",
       "    </tr>\n",
       "    <tr>\n",
       "      <th>3</th>\n",
       "      <td>4</td>\n",
       "      <td>Denali Commission</td>\n",
       "      <td>Denali Commission</td>\n",
       "      <td>NaN</td>\n",
       "      <td>NaN</td>\n",
       "    </tr>\n",
       "    <tr>\n",
       "      <th>4</th>\n",
       "      <td>5</td>\n",
       "      <td>Department of Defense</td>\n",
       "      <td>Department of Defense</td>\n",
       "      <td>NaN</td>\n",
       "      <td>NaN</td>\n",
       "    </tr>\n",
       "    <tr>\n",
       "      <th>...</th>\n",
       "      <td>...</td>\n",
       "      <td>...</td>\n",
       "      <td>...</td>\n",
       "      <td>...</td>\n",
       "      <td>...</td>\n",
       "    </tr>\n",
       "    <tr>\n",
       "      <th>270</th>\n",
       "      <td>288</td>\n",
       "      <td>Extended Collaborative Support Services</td>\n",
       "      <td>National Science Foundation</td>\n",
       "      <td>Extreme Science and Engineering Discovery Envi...</td>\n",
       "      <td>Extended Collaborative Support Services</td>\n",
       "    </tr>\n",
       "    <tr>\n",
       "      <th>271</th>\n",
       "      <td>289</td>\n",
       "      <td>Global Positioning Systems Directorate</td>\n",
       "      <td>Department of Defense</td>\n",
       "      <td>Air Force</td>\n",
       "      <td>Global Positioning Systems Directorate</td>\n",
       "    </tr>\n",
       "    <tr>\n",
       "      <th>272</th>\n",
       "      <td>290</td>\n",
       "      <td>Isotope Development and Production for Researc...</td>\n",
       "      <td>Department of Energy</td>\n",
       "      <td>Oak Ridge National Laboratory</td>\n",
       "      <td>Isotope Development and Production for Researc...</td>\n",
       "    </tr>\n",
       "    <tr>\n",
       "      <th>273</th>\n",
       "      <td>291</td>\n",
       "      <td>Tactically Exploited Reconnaissance Node program</td>\n",
       "      <td>Department of Defense</td>\n",
       "      <td>Defense Advanced Research Projects Agency</td>\n",
       "      <td>Tactically Exploited Reconnaissance Node program</td>\n",
       "    </tr>\n",
       "    <tr>\n",
       "      <th>274</th>\n",
       "      <td>292</td>\n",
       "      <td>Young Investigator Program</td>\n",
       "      <td>Department of Defense</td>\n",
       "      <td>Air Force</td>\n",
       "      <td>Young Investigator Program</td>\n",
       "    </tr>\n",
       "  </tbody>\n",
       "</table>\n",
       "<p>275 rows × 5 columns</p>\n",
       "</div>"
      ],
      "text/plain": [
       "     organization_id                                               name  \\\n",
       "0                  1                     Department of Veterans Affairs   \n",
       "1                  2                             Department of Commerce   \n",
       "2                  3                                 U.S. Census Bureau   \n",
       "3                  4                                  Denali Commission   \n",
       "4                  5                              Department of Defense   \n",
       "..               ...                                                ...   \n",
       "270              288            Extended Collaborative Support Services   \n",
       "271              289             Global Positioning Systems Directorate   \n",
       "272              290  Isotope Development and Production for Researc...   \n",
       "273              291   Tactically Exploited Reconnaissance Node program   \n",
       "274              292                         Young Investigator Program   \n",
       "\n",
       "                          level_one  \\\n",
       "0    Department of Veterans Affairs   \n",
       "1            Department of Commerce   \n",
       "2            Department of Commerce   \n",
       "3                 Denali Commission   \n",
       "4             Department of Defense   \n",
       "..                              ...   \n",
       "270     National Science Foundation   \n",
       "271           Department of Defense   \n",
       "272            Department of Energy   \n",
       "273           Department of Defense   \n",
       "274           Department of Defense   \n",
       "\n",
       "                                             level_two  \\\n",
       "0                                                  NaN   \n",
       "1                                                  NaN   \n",
       "2                                   U.S. Census Bureau   \n",
       "3                                                  NaN   \n",
       "4                                                  NaN   \n",
       "..                                                 ...   \n",
       "270  Extreme Science and Engineering Discovery Envi...   \n",
       "271                                          Air Force   \n",
       "272                      Oak Ridge National Laboratory   \n",
       "273          Defense Advanced Research Projects Agency   \n",
       "274                                          Air Force   \n",
       "\n",
       "                                           level_three  \n",
       "0                                                  NaN  \n",
       "1                                                  NaN  \n",
       "2                                                  NaN  \n",
       "3                                                  NaN  \n",
       "4                                                  NaN  \n",
       "..                                                 ...  \n",
       "270            Extended Collaborative Support Services  \n",
       "271             Global Positioning Systems Directorate  \n",
       "272  Isotope Development and Production for Researc...  \n",
       "273   Tactically Exploited Reconnaissance Node program  \n",
       "274                         Young Investigator Program  \n",
       "\n",
       "[275 rows x 5 columns]"
      ]
     },
     "execution_count": 24,
     "metadata": {},
     "output_type": "execute_result"
    }
   ],
   "source": [
    "df_gov_org"
   ]
  }
 ],
 "metadata": {
  "anaconda-cloud": {},
  "kernelspec": {
   "display_name": "Python 3",
   "language": "python",
   "name": "python3"
  },
  "language_info": {
   "codemirror_mode": {
    "name": "ipython",
    "version": 3
   },
   "file_extension": ".py",
   "mimetype": "text/x-python",
   "name": "python",
   "nbconvert_exporter": "python",
   "pygments_lexer": "ipython3",
   "version": "3.7.7"
  }
 },
 "nbformat": 4,
 "nbformat_minor": 1
}
