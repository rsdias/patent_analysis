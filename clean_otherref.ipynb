{
 "cells": [
  {
   "cell_type": "code",
   "execution_count": 1,
   "metadata": {},
   "outputs": [],
   "source": [
    "# Rio de Janeiro, 24 de Setembro de 2021\n",
    "\n",
    "# Outras referencias (non patent references)\n",
    "# O que seria relevante de extrair? \n",
    "# - Contagem de referencias\n",
    "# - Se a referencia e' um paper cientifico\n",
    "# Este script deve extrair a info relevante para se incluido no modelo\n",
    "\n",
    "# Quatro campos: uuid | patent_id | text | sequence\n",
    "\n",
    "\n",
    "import dask.dataframe as dd\n",
    "import glob\n",
    "from dask.delayed import delayed\n",
    "import pandas as pd\n",
    "import re\n",
    "\n",
    "\n",
    "# Other references (non patent citation)\n",
    "\n",
    "def clean_field(df):\n",
    "    cleaning_patent=lambda x:re.sub('([^a-zA-Z0-9]+)', \"\", x)\n",
    "    df.dropna(inplace=True)\n",
    "    df['text']=df['text'].apply(cleaning_patent)\n",
    "    return df\n"
   ]
  },
  {
   "cell_type": "code",
   "execution_count": 2,
   "metadata": {},
   "outputs": [],
   "source": [
    "def run_processes(dfs):\n",
    "    for i, df in enumerate(dfs):\n",
    "        myTypes={'uuid':str, 'patent_id':str, 'text':str, 'sequence':str}\n",
    "        df=dd.from_delayed(df, meta=myTypes)\n",
    "        df=delayed(clean_field)(df)\n",
    "        dst='data/clean_otherref_'+str(i)+'.parquet.gz'       \n",
    "        df.set_index('patent_id').compute().to_parquet(dst, compression='gzip')"
   ]
  },
  {
   "cell_type": "code",
   "execution_count": 3,
   "metadata": {},
   "outputs": [
    {
     "data": {
      "text/plain": [
       "(None,)"
      ]
     },
     "execution_count": 3,
     "metadata": {},
     "output_type": "execute_result"
    }
   ],
   "source": [
    "file_list=glob.glob(\"parquet/otherref*\")\n",
    "dfs = [delayed(pd.read_parquet)(f) for f in file_list]\n",
    "\n",
    "dd.compute(run_processes(dfs))"
   ]
  }
 ],
 "metadata": {
  "kernelspec": {
   "display_name": "Python 3",
   "language": "python",
   "name": "python3"
  },
  "language_info": {
   "codemirror_mode": {
    "name": "ipython",
    "version": 3
   },
   "file_extension": ".py",
   "mimetype": "text/x-python",
   "name": "python",
   "nbconvert_exporter": "python",
   "pygments_lexer": "ipython3",
   "version": "3.7.7"
  }
 },
 "nbformat": 4,
 "nbformat_minor": 4
}
