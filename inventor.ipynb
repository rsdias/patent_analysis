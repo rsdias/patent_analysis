{
 "cells": [
  {
   "cell_type": "code",
   "execution_count": 1,
   "metadata": {},
   "outputs": [],
   "source": [
    "# Sao Paulo, 13 de Outubro de 2021\n",
    "# Inventor name (not used)\n",
    "# Inventor vs Patent (dummy)\n",
    "\n",
    "# O dataset esta no nivel da patente, pois desejamos ver as caracteristicas que a definem\n",
    "# porem uma patente pode ter mais de um inventor. podemos:\n",
    "#  transformar inventores em quantidade (i.e. passa a ser dado sobre a quantidade de inventores)\n",
    "#  converter em uma tabela onde nas colunas estao os inventores (explode para 3Tb)\n",
    "#  defini criar uma lista\n"
   ]
  },
  {
   "cell_type": "code",
   "execution_count": 2,
   "metadata": {},
   "outputs": [],
   "source": [
    "import pandas as pd\n",
    "import pyarrow\n",
    "\n",
    "inventor='data/patent_inventor.tsv.zip'\n",
    "df=pd.read_csv(inventor, compression='zip', sep='\\t', dtype=object)"
   ]
  },
  {
   "cell_type": "code",
   "execution_count": 3,
   "metadata": {},
   "outputs": [],
   "source": [
    "df=df.applymap(lambda x: x.strip())"
   ]
  },
  {
   "cell_type": "code",
   "execution_count": 4,
   "metadata": {},
   "outputs": [],
   "source": [
    "df=df.groupby('patent_id')['inventor_id'].apply(list)"
   ]
  },
  {
   "cell_type": "code",
   "execution_count": 5,
   "metadata": {},
   "outputs": [
    {
     "data": {
      "text/plain": [
       "patent_id\n",
       "3930274               [3930274-1]\n",
       "3930275               [3930275-1]\n",
       "3930276               [3930276-1]\n",
       "3930277               [3930277-1]\n",
       "3930278               [3930278-1]\n",
       "3930279               [3930279-1]\n",
       "3930280               [3930280-1]\n",
       "3930281    [3930281-1, 3930281-2]\n",
       "3930282    [3930282-1, 3930282-2]\n",
       "3930283               [3930282-1]\n",
       "Name: inventor_id, dtype: object"
      ]
     },
     "execution_count": 5,
     "metadata": {},
     "output_type": "execute_result"
    }
   ],
   "source": [
    "df.head(10)"
   ]
  },
  {
   "cell_type": "code",
   "execution_count": 14,
   "metadata": {},
   "outputs": [],
   "source": [
    "dst='data/inventor.parquet.gz'\n",
    "#df = df.reset_index().rename(columns={'patent_id': 'id'})\n",
    "df.to_parquet(dst, compression='gzip', index=False)"
   ]
  },
  {
   "cell_type": "code",
   "execution_count": 11,
   "metadata": {},
   "outputs": [],
   "source": [
    "df2 = pd.read_parquet(dst)"
   ]
  },
  {
   "cell_type": "code",
   "execution_count": 12,
   "metadata": {},
   "outputs": [
    {
     "data": {
      "text/html": [
       "<div>\n",
       "<style scoped>\n",
       "    .dataframe tbody tr th:only-of-type {\n",
       "        vertical-align: middle;\n",
       "    }\n",
       "\n",
       "    .dataframe tbody tr th {\n",
       "        vertical-align: top;\n",
       "    }\n",
       "\n",
       "    .dataframe thead th {\n",
       "        text-align: right;\n",
       "    }\n",
       "</style>\n",
       "<table border=\"1\" class=\"dataframe\">\n",
       "  <thead>\n",
       "    <tr style=\"text-align: right;\">\n",
       "      <th></th>\n",
       "      <th>patent_id</th>\n",
       "      <th>inventor_id</th>\n",
       "    </tr>\n",
       "  </thead>\n",
       "  <tbody>\n",
       "    <tr>\n",
       "      <th>0</th>\n",
       "      <td>3930274</td>\n",
       "      <td>[3930274-1]</td>\n",
       "    </tr>\n",
       "    <tr>\n",
       "      <th>1</th>\n",
       "      <td>3930275</td>\n",
       "      <td>[3930275-1]</td>\n",
       "    </tr>\n",
       "    <tr>\n",
       "      <th>2</th>\n",
       "      <td>3930276</td>\n",
       "      <td>[3930276-1]</td>\n",
       "    </tr>\n",
       "    <tr>\n",
       "      <th>3</th>\n",
       "      <td>3930277</td>\n",
       "      <td>[3930277-1]</td>\n",
       "    </tr>\n",
       "    <tr>\n",
       "      <th>4</th>\n",
       "      <td>3930278</td>\n",
       "      <td>[3930278-1]</td>\n",
       "    </tr>\n",
       "  </tbody>\n",
       "</table>\n",
       "</div>"
      ],
      "text/plain": [
       "  patent_id  inventor_id\n",
       "0   3930274  [3930274-1]\n",
       "1   3930275  [3930275-1]\n",
       "2   3930276  [3930276-1]\n",
       "3   3930277  [3930277-1]\n",
       "4   3930278  [3930278-1]"
      ]
     },
     "execution_count": 12,
     "metadata": {},
     "output_type": "execute_result"
    }
   ],
   "source": [
    "df2.head()"
   ]
  },
  {
   "cell_type": "code",
   "execution_count": null,
   "metadata": {},
   "outputs": [],
   "source": []
  }
 ],
 "metadata": {
  "kernelspec": {
   "display_name": "Python 3",
   "language": "python",
   "name": "python3"
  },
  "language_info": {
   "codemirror_mode": {
    "name": "ipython",
    "version": 3
   },
   "file_extension": ".py",
   "mimetype": "text/x-python",
   "name": "python",
   "nbconvert_exporter": "python",
   "pygments_lexer": "ipython3",
   "version": "3.7.7"
  }
 },
 "nbformat": 4,
 "nbformat_minor": 4
}
